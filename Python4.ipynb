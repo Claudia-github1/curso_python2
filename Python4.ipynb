{
  "nbformat": 4,
  "nbformat_minor": 0,
  "metadata": {
    "colab": {
      "name": "Python4.ipynb",
      "provenance": [],
      "authorship_tag": "ABX9TyOhWr9capnvfvjvBca4lXzg",
      "include_colab_link": true
    },
    "kernelspec": {
      "name": "python3",
      "display_name": "Python 3"
    }
  },
  "cells": [
    {
      "cell_type": "markdown",
      "metadata": {
        "id": "view-in-github",
        "colab_type": "text"
      },
      "source": [
        "<a href=\"https://colab.research.google.com/github/Claudia-github1/curso_python2/blob/main/Python4.ipynb\" target=\"_parent\"><img src=\"https://colab.research.google.com/assets/colab-badge.svg\" alt=\"Open In Colab\"/></a>"
      ]
    },
    {
      "cell_type": "code",
      "metadata": {
        "id": "fetWsgtcPUYi"
      },
      "source": [
        "import datetime as dt\n"
      ],
      "execution_count": 1,
      "outputs": []
    },
    {
      "cell_type": "code",
      "metadata": {
        "colab": {
          "base_uri": "https://localhost:8080/"
        },
        "id": "TVlW9uEoP6rD",
        "outputId": "90f85715-30ff-454f-cebf-de02c5a83574"
      },
      "source": [
        "hora_minuto = dt.time(23,10)\n",
        "print(hora_minuto)\n",
        "type(hora_minuto)"
      ],
      "execution_count": 4,
      "outputs": [
        {
          "output_type": "stream",
          "text": [
            "23:10:00\n"
          ],
          "name": "stdout"
        },
        {
          "output_type": "execute_result",
          "data": {
            "text/plain": [
              "datetime.time"
            ]
          },
          "metadata": {
            "tags": []
          },
          "execution_count": 4
        }
      ]
    },
    {
      "cell_type": "code",
      "metadata": {
        "colab": {
          "base_uri": "https://localhost:8080/"
        },
        "id": "oE_tSClDQd3F",
        "outputId": "d14de3fc-4032-4b26-925a-42abe33fbb1f"
      },
      "source": [
        "now = dt.datetime.now()\n",
        "print(now)\n",
        "#horario del servidor, cuando se captura la hora del servidor"
      ],
      "execution_count": 5,
      "outputs": [
        {
          "output_type": "stream",
          "text": [
            "2020-11-21 19:23:07.879225\n"
          ],
          "name": "stdout"
        }
      ]
    },
    {
      "cell_type": "code",
      "metadata": {
        "colab": {
          "base_uri": "https://localhost:8080/"
        },
        "id": "qOtH_N9HQ2YR",
        "outputId": "29953812-99f0-4b2e-fffa-7dc11479b430"
      },
      "source": [
        "now = dt.datetime.now()\n",
        "print(now)\n",
        "\n",
        "print(\"Fecha\\n\")\n",
        "print(\"El año actual es:\", now.year)\n",
        "print(\"El mes actual es:\", now.month)\n",
        "print(\"El día actual es:\", now.day)\n",
        "\n",
        "print(\"\\nTiempo\\n\")\n",
        "print(\"La hora actual es:   \", now.hour)\n",
        "print(\"El minuto actual es: \", now.minute)\n",
        "print(\"El segundo actual es:\", now.second)\n"
      ],
      "execution_count": 6,
      "outputs": [
        {
          "output_type": "stream",
          "text": [
            "2020-11-21 19:28:20.447047\n",
            "Fecha\n",
            "\n",
            "El año actual es: 2020\n",
            "El mes actual es: 11\n",
            "El día actual es: 21\n",
            "\n",
            "Tiempo\n",
            "\n",
            "La hora actual es:    19\n",
            "El minuto actual es:  28\n",
            "El segundo actual es: 20\n"
          ],
          "name": "stdout"
        }
      ]
    },
    {
      "cell_type": "code",
      "metadata": {
        "colab": {
          "base_uri": "https://localhost:8080/"
        },
        "id": "AMZ6RDjhR6iT",
        "outputId": "7301520e-dcf7-4f5e-e550-6a1cb258481b"
      },
      "source": [
        "navidad_date = dt.datetime(2020, 12, 25)\n",
        "print(navidad_date)"
      ],
      "execution_count": 7,
      "outputs": [
        {
          "output_type": "stream",
          "text": [
            "2020-12-25 00:00:00\n"
          ],
          "name": "stdout"
        }
      ]
    },
    {
      "cell_type": "code",
      "metadata": {
        "colab": {
          "base_uri": "https://localhost:8080/"
        },
        "id": "2U7bzgOISEb-",
        "outputId": "810a5cc8-d9a8-478c-b152-09eb09edae68"
      },
      "source": [
        "diff = navidad_date - now\n",
        "print(diff)"
      ],
      "execution_count": 8,
      "outputs": [
        {
          "output_type": "stream",
          "text": [
            "33 days, 4:31:39.552953\n"
          ],
          "name": "stdout"
        }
      ]
    },
    {
      "cell_type": "code",
      "metadata": {
        "colab": {
          "base_uri": "https://localhost:8080/"
        },
        "id": "5COz4efGSOzt",
        "outputId": "8515c7ab-2210-42d6-fd5e-a0e2c1728ff2"
      },
      "source": [
        "#calcular la edad de una persona\n",
        "#la variable no lleva .\n",
        "\n",
        "edad = dt.datetime(2021, 5,18)\n",
        "print(edad)\n",
        "diff = edad - now\n",
        "print(diff)\n"
      ],
      "execution_count": 10,
      "outputs": [
        {
          "output_type": "stream",
          "text": [
            "2021-05-18 00:00:00\n",
            "177 days, 4:31:39.552953\n"
          ],
          "name": "stdout"
        }
      ]
    },
    {
      "cell_type": "code",
      "metadata": {
        "colab": {
          "base_uri": "https://localhost:8080/"
        },
        "id": "S8G30SO7TFmy",
        "outputId": "19a1ccf3-56e5-4f33-971d-a1b065c030c8"
      },
      "source": [
        "birth_date = dt.datetime(1989,5,18)\n",
        "print(birth_date)\n",
        "\n",
        "now = birth_date.now()\n",
        "diff = now.year - birth_date.year\n",
        "print(\"Mi edad es\", diff)\n"
      ],
      "execution_count": 13,
      "outputs": [
        {
          "output_type": "stream",
          "text": [
            "1989-05-18 00:00:00\n",
            "Mi edad es 31\n"
          ],
          "name": "stdout"
        }
      ]
    },
    {
      "cell_type": "code",
      "metadata": {
        "colab": {
          "base_uri": "https://localhost:8080/"
        },
        "id": "C509mZmBT4UJ",
        "outputId": "5e82336d-2ada-457a-a8e8-c67a6dacac2d"
      },
      "source": [
        "#Convertir cadena en date time \n",
        "\n",
        "str_date = \"19-09-2020\"\n",
        "type(str_date)\n"
      ],
      "execution_count": 14,
      "outputs": [
        {
          "output_type": "execute_result",
          "data": {
            "text/plain": [
              "str"
            ]
          },
          "metadata": {
            "tags": []
          },
          "execution_count": 14
        }
      ]
    },
    {
      "cell_type": "code",
      "metadata": {
        "colab": {
          "base_uri": "https://localhost:8080/"
        },
        "id": "qeILhJSkUOZI",
        "outputId": "3d50eb8b-4a28-4e5d-d3d5-d41a71bfd942"
      },
      "source": [
        "str_date = \"19-09-2020\"\n",
        "str_date = dt.datetime.strptime(str_date,\"%d-%m-%Y\")\n",
        "print(str_date)\n",
        "print(type(str_date))\n",
        "\n",
        "#sql el formato de fecha tiene un codigo especial "
      ],
      "execution_count": 33,
      "outputs": [
        {
          "output_type": "stream",
          "text": [
            "2020-09-19 00:00:00\n",
            "<class 'datetime.datetime'>\n"
          ],
          "name": "stdout"
        }
      ]
    },
    {
      "cell_type": "code",
      "metadata": {
        "colab": {
          "base_uri": "https://localhost:8080/"
        },
        "id": "6JP9qX8hUd8P",
        "outputId": "11652d3b-ce07-4c49-c3d3-a22de3ae3520"
      },
      "source": [
        "str_date2 = \"07-25-2020\"\n",
        "str_date2 = dt.datetime.strptime(str_date2, \"%m-%d-%Y\")\n",
        "print(str_date2)"
      ],
      "execution_count": 32,
      "outputs": [
        {
          "output_type": "stream",
          "text": [
            "2020-07-25 00:00:00\n"
          ],
          "name": "stdout"
        }
      ]
    },
    {
      "cell_type": "code",
      "metadata": {
        "colab": {
          "base_uri": "https://localhost:8080/",
          "height": 328
        },
        "id": "9eoexg45VN_N",
        "outputId": "4d04f509-b69c-41a1-9ab0-45a3da9b4f83"
      },
      "source": [
        "str_date2 = \"07-25-2020\"\n",
        "str_date2 = dt.datetime.strptime(str_date2, \"%d-%m-%Y\") #el formato esta mal\n",
        "print(str_date2)"
      ],
      "execution_count": 34,
      "outputs": [
        {
          "output_type": "error",
          "ename": "ValueError",
          "evalue": "ignored",
          "traceback": [
            "\u001b[0;31m---------------------------------------------------------------------------\u001b[0m",
            "\u001b[0;31mValueError\u001b[0m                                Traceback (most recent call last)",
            "\u001b[0;32m<ipython-input-34-80d10788eae4>\u001b[0m in \u001b[0;36m<module>\u001b[0;34m()\u001b[0m\n\u001b[1;32m      1\u001b[0m \u001b[0mstr_date2\u001b[0m \u001b[0;34m=\u001b[0m \u001b[0;34m\"07-25-2020\"\u001b[0m\u001b[0;34m\u001b[0m\u001b[0;34m\u001b[0m\u001b[0m\n\u001b[0;32m----> 2\u001b[0;31m \u001b[0mstr_date2\u001b[0m \u001b[0;34m=\u001b[0m \u001b[0mdt\u001b[0m\u001b[0;34m.\u001b[0m\u001b[0mdatetime\u001b[0m\u001b[0;34m.\u001b[0m\u001b[0mstrptime\u001b[0m\u001b[0;34m(\u001b[0m\u001b[0mstr_date2\u001b[0m\u001b[0;34m,\u001b[0m \u001b[0;34m\"%d-%m-%Y\"\u001b[0m\u001b[0;34m)\u001b[0m\u001b[0;34m\u001b[0m\u001b[0;34m\u001b[0m\u001b[0m\n\u001b[0m\u001b[1;32m      3\u001b[0m \u001b[0mprint\u001b[0m\u001b[0;34m(\u001b[0m\u001b[0mstr_date2\u001b[0m\u001b[0;34m)\u001b[0m\u001b[0;34m\u001b[0m\u001b[0;34m\u001b[0m\u001b[0m\n",
            "\u001b[0;32m/usr/lib/python3.6/_strptime.py\u001b[0m in \u001b[0;36m_strptime_datetime\u001b[0;34m(cls, data_string, format)\u001b[0m\n\u001b[1;32m    563\u001b[0m     \"\"\"Return a class cls instance based on the input string and the\n\u001b[1;32m    564\u001b[0m     format string.\"\"\"\n\u001b[0;32m--> 565\u001b[0;31m     \u001b[0mtt\u001b[0m\u001b[0;34m,\u001b[0m \u001b[0mfraction\u001b[0m \u001b[0;34m=\u001b[0m \u001b[0m_strptime\u001b[0m\u001b[0;34m(\u001b[0m\u001b[0mdata_string\u001b[0m\u001b[0;34m,\u001b[0m \u001b[0mformat\u001b[0m\u001b[0;34m)\u001b[0m\u001b[0;34m\u001b[0m\u001b[0;34m\u001b[0m\u001b[0m\n\u001b[0m\u001b[1;32m    566\u001b[0m     \u001b[0mtzname\u001b[0m\u001b[0;34m,\u001b[0m \u001b[0mgmtoff\u001b[0m \u001b[0;34m=\u001b[0m \u001b[0mtt\u001b[0m\u001b[0;34m[\u001b[0m\u001b[0;34m-\u001b[0m\u001b[0;36m2\u001b[0m\u001b[0;34m:\u001b[0m\u001b[0;34m]\u001b[0m\u001b[0;34m\u001b[0m\u001b[0;34m\u001b[0m\u001b[0m\n\u001b[1;32m    567\u001b[0m     \u001b[0margs\u001b[0m \u001b[0;34m=\u001b[0m \u001b[0mtt\u001b[0m\u001b[0;34m[\u001b[0m\u001b[0;34m:\u001b[0m\u001b[0;36m6\u001b[0m\u001b[0;34m]\u001b[0m \u001b[0;34m+\u001b[0m \u001b[0;34m(\u001b[0m\u001b[0mfraction\u001b[0m\u001b[0;34m,\u001b[0m\u001b[0;34m)\u001b[0m\u001b[0;34m\u001b[0m\u001b[0;34m\u001b[0m\u001b[0m\n",
            "\u001b[0;32m/usr/lib/python3.6/_strptime.py\u001b[0m in \u001b[0;36m_strptime\u001b[0;34m(data_string, format)\u001b[0m\n\u001b[1;32m    360\u001b[0m     \u001b[0;32mif\u001b[0m \u001b[0;32mnot\u001b[0m \u001b[0mfound\u001b[0m\u001b[0;34m:\u001b[0m\u001b[0;34m\u001b[0m\u001b[0;34m\u001b[0m\u001b[0m\n\u001b[1;32m    361\u001b[0m         raise ValueError(\"time data %r does not match format %r\" %\n\u001b[0;32m--> 362\u001b[0;31m                          (data_string, format))\n\u001b[0m\u001b[1;32m    363\u001b[0m     \u001b[0;32mif\u001b[0m \u001b[0mlen\u001b[0m\u001b[0;34m(\u001b[0m\u001b[0mdata_string\u001b[0m\u001b[0;34m)\u001b[0m \u001b[0;34m!=\u001b[0m \u001b[0mfound\u001b[0m\u001b[0;34m.\u001b[0m\u001b[0mend\u001b[0m\u001b[0;34m(\u001b[0m\u001b[0;34m)\u001b[0m\u001b[0;34m:\u001b[0m\u001b[0;34m\u001b[0m\u001b[0;34m\u001b[0m\u001b[0m\n\u001b[1;32m    364\u001b[0m         raise ValueError(\"unconverted data remains: %s\" %\n",
            "\u001b[0;31mValueError\u001b[0m: time data '07-25-2020' does not match format '%d-%m-%Y'"
          ]
        }
      ]
    },
    {
      "cell_type": "code",
      "metadata": {
        "colab": {
          "base_uri": "https://localhost:8080/"
        },
        "id": "9eaGf8soVUAP",
        "outputId": "77f5c2d0-c71e-4e56-a05c-5e27a814f50f"
      },
      "source": [
        "#la data tien eque estar estandarizada, la validación de data, bastante tino en manicupación de fecha\n",
        "# analisis previo en la base de dato, chan validado la información\n",
        "# data gobernance, los tipos de datos como vienen \n",
        "\n",
        "str_date3 = \"07-31-2020\"\n",
        "str_date3 = \"25-10-2020\"\n",
        "str_date3 = dt.datetime.strptime(str_date3, \"%d-%m-%Y\")\n",
        "print(str_date3)\n"
      ],
      "execution_count": 35,
      "outputs": [
        {
          "output_type": "stream",
          "text": [
            "2020-10-25 00:00:00\n"
          ],
          "name": "stdout"
        }
      ]
    },
    {
      "cell_type": "code",
      "metadata": {
        "id": "dVTvG4jXXUgc"
      },
      "source": [
        ""
      ],
      "execution_count": null,
      "outputs": []
    },
    {
      "cell_type": "markdown",
      "metadata": {
        "id": "1XH55VrsXaLR"
      },
      "source": [
        "##STRING "
      ]
    },
    {
      "cell_type": "code",
      "metadata": {
        "colab": {
          "base_uri": "https://localhost:8080/",
          "height": 35
        },
        "id": "gCUh0gRIXcn7",
        "outputId": "a563620b-a75a-4f7c-8bcb-ee5dd20a23ac"
      },
      "source": [
        "#poder encontrar ascii a char\n",
        "#elcodigoassciii.com.ar\n",
        "\n",
        "chr(164)"
      ],
      "execution_count": 37,
      "outputs": [
        {
          "output_type": "execute_result",
          "data": {
            "application/vnd.google.colaboratory.intrinsic+json": {
              "type": "string"
            },
            "text/plain": [
              "'¤'"
            ]
          },
          "metadata": {
            "tags": []
          },
          "execution_count": 37
        }
      ]
    },
    {
      "cell_type": "code",
      "metadata": {
        "colab": {
          "base_uri": "https://localhost:8080/",
          "height": 35
        },
        "id": "MxRemQXeXvbP",
        "outputId": "a6ceddc0-1ffe-4db1-a2ce-27bcfdbfdc06"
      },
      "source": [
        "chr(64)"
      ],
      "execution_count": 38,
      "outputs": [
        {
          "output_type": "execute_result",
          "data": {
            "application/vnd.google.colaboratory.intrinsic+json": {
              "type": "string"
            },
            "text/plain": [
              "'@'"
            ]
          },
          "metadata": {
            "tags": []
          },
          "execution_count": 38
        }
      ]
    },
    {
      "cell_type": "code",
      "metadata": {
        "id": "gPH4srvTZOsM"
      },
      "source": [
        ""
      ],
      "execution_count": null,
      "outputs": []
    },
    {
      "cell_type": "code",
      "metadata": {
        "colab": {
          "base_uri": "https://localhost:8080/",
          "height": 35
        },
        "id": "E1dXdAXvX1Bf",
        "outputId": "f20979a5-e002-4ba2-9972-72fe0ac60713"
      },
      "source": [
        "#configuración del lo que tiene el servidor \n",
        "# utilizar utf-8 - Nos permite uardas ñ\n",
        "\n",
        "\n",
        "chr(50)"
      ],
      "execution_count": 39,
      "outputs": [
        {
          "output_type": "execute_result",
          "data": {
            "application/vnd.google.colaboratory.intrinsic+json": {
              "type": "string"
            },
            "text/plain": [
              "'2'"
            ]
          },
          "metadata": {
            "tags": []
          },
          "execution_count": 39
        }
      ]
    },
    {
      "cell_type": "code",
      "metadata": {
        "id": "1HWzIO5HYJW0"
      },
      "source": [
        "#considerar los servidores, en colbab como es de google se encuentra en estados unidos "
      ],
      "execution_count": null,
      "outputs": []
    },
    {
      "cell_type": "code",
      "metadata": {
        "colab": {
          "base_uri": "https://localhost:8080/"
        },
        "id": "fm644Dz6YqNx",
        "outputId": "e8959875-a8ff-41c3-a7b6-c12d8ae708c2"
      },
      "source": [
        "#Pertenencia \n",
        "\n",
        "s1 = 'fundamentos de programación en python'\n",
        "'de' in s1"
      ],
      "execution_count": 42,
      "outputs": [
        {
          "output_type": "execute_result",
          "data": {
            "text/plain": [
              "True"
            ]
          },
          "metadata": {
            "tags": []
          },
          "execution_count": 42
        }
      ]
    },
    {
      "cell_type": "code",
      "metadata": {
        "colab": {
          "base_uri": "https://localhost:8080/"
        },
        "id": "L8bDyR6kZHeM",
        "outputId": "74f9d82f-4e00-49bf-ff1f-ce9ae5ac3dc2"
      },
      "source": [
        "busqueda = 'em'\n",
        "busqueda in s1"
      ],
      "execution_count": 43,
      "outputs": [
        {
          "output_type": "execute_result",
          "data": {
            "text/plain": [
              "False"
            ]
          },
          "metadata": {
            "tags": []
          },
          "execution_count": 43
        }
      ]
    },
    {
      "cell_type": "code",
      "metadata": {
        "colab": {
          "base_uri": "https://localhost:8080/"
        },
        "id": "Y719_6u9ZQqO",
        "outputId": "f7df1feb-e9a3-4832-eb31-1da07cdcb05b"
      },
      "source": [
        "busqueda = 'em'\n",
        "resultado_busqueda = busqueda in s1\n",
        "print(resultado_busqueda)\n",
        "if resultado_busqueda :\n",
        "  print('si existe')\n",
        "else:\n",
        "    print('no existe')\n"
      ],
      "execution_count": 45,
      "outputs": [
        {
          "output_type": "stream",
          "text": [
            "False\n",
            "no existe\n"
          ],
          "name": "stdout"
        }
      ]
    },
    {
      "cell_type": "code",
      "metadata": {
        "colab": {
          "base_uri": "https://localhost:8080/"
        },
        "id": "d0AwaVKcZtyC",
        "outputId": "c5e60e35-939f-4b08-a67e-af22a30ee4d0"
      },
      "source": [
        "busqueda = 'EN'\n",
        "resultado_busqueda = busqueda.lower() in s1.lower()\n",
        "print(resultado_busqueda)\n",
        "if resultado_busqueda :\n",
        "  print('si existe')\n",
        "else:\n",
        "    print('no existe')"
      ],
      "execution_count": 47,
      "outputs": [
        {
          "output_type": "stream",
          "text": [
            "True\n",
            "si existe\n"
          ],
          "name": "stdout"
        }
      ]
    },
    {
      "cell_type": "code",
      "metadata": {
        "colab": {
          "base_uri": "https://localhost:8080/"
        },
        "id": "13J1a3HlZ7rO",
        "outputId": "9bfa51e3-0fd2-4fb7-9470-c8b1c6bb64fe"
      },
      "source": [
        "#Pertenencia \n",
        "s1 = 'fundamentos de programación en python'\n",
        "print(s1)\n",
        "\n",
        "busqueda = 'EN'\n",
        "busqueda_minuscula = busqueda.lower()\n",
        "print(busqueda_minuscula)\n",
        "\n",
        "resultado_busqueda = busqueda.lower() in s1.lower()\n",
        "print(resultado_busqueda)\n",
        "\n",
        "if resultado_busqueda :\n",
        "  print('si existe')\n",
        "else:\n",
        "    print('no existe')"
      ],
      "execution_count": 51,
      "outputs": [
        {
          "output_type": "stream",
          "text": [
            "fundamentos de programación en python\n",
            "en\n",
            "True\n",
            "si existe\n"
          ],
          "name": "stdout"
        }
      ]
    },
    {
      "cell_type": "code",
      "metadata": {
        "colab": {
          "base_uri": "https://localhost:8080/"
        },
        "id": "OMhRLYNpa_kP",
        "outputId": "c1e64870-488d-41f6-9291-b3aa69486f28"
      },
      "source": [
        "#Pertenencia \n",
        "s1 = 'fundamentos de programación en python'\n",
        "print(s1)\n",
        "\n",
        "busqueda = '%EN%' #es una cadena, no funciona este comodin %, lo que \n",
        "busqueda_minuscula = busqueda.lower()\n",
        "print(busqueda_minuscula)\n",
        "\n",
        "resultado_busqueda = busqueda.lower() in s1.lower()\n",
        "print(resultado_busqueda)\n",
        "\n",
        "if resultado_busqueda :\n",
        "  print('si existe')\n",
        "else:\n",
        "    print('no existe')"
      ],
      "execution_count": 52,
      "outputs": [
        {
          "output_type": "stream",
          "text": [
            "fundamentos de programación en python\n",
            "%en%\n",
            "False\n",
            "no existe\n"
          ],
          "name": "stdout"
        }
      ]
    },
    {
      "cell_type": "code",
      "metadata": {
        "colab": {
          "base_uri": "https://localhost:8080/"
        },
        "id": "CXMi8CQ5dXtB",
        "outputId": "0725b606-ff3e-4cb1-fde9-86025d662d26"
      },
      "source": [
        "s1 = 'fundamentos de programación Python'\n",
        "\n",
        "#Acceso (Indexing - Slicing)\n",
        "\n",
        "print(s1[0])\n",
        "print(s1[-1])\n",
        "print(s1[4:8])\n",
        "print(s1[::-1])\n",
        "\n",
        "            #mes dia año\n",
        "str_date = \"09-12-1994\"\n",
        "\n",
        "dia = str_date[3:5]\n",
        "mes = str_date[0:2]\n",
        "año = str_date[6:10]\n",
        "\n",
        "print(dia)\n",
        "print(mes)\n",
        "print(año)"
      ],
      "execution_count": 59,
      "outputs": [
        {
          "output_type": "stream",
          "text": [
            "f\n",
            "n\n",
            "amen\n",
            "nohtyP nóicamargorp ed sotnemadnuf\n",
            "12\n",
            "09\n",
            "1994\n"
          ],
          "name": "stdout"
        }
      ]
    },
    {
      "cell_type": "code",
      "metadata": {
        "id": "3h8uUie2bTRI"
      },
      "source": [
        "#hay funciones que no te piden parametros como uper o lower o otros si te piden parametros datemine"
      ],
      "execution_count": null,
      "outputs": []
    },
    {
      "cell_type": "code",
      "metadata": {
        "colab": {
          "base_uri": "https://localhost:8080/"
        },
        "id": "9lcSjbrpfBrX",
        "outputId": "7322a69e-7580-4805-c262-ee1b3229d92b"
      },
      "source": [
        "#Funciones de desplazamiento\n",
        "\n",
        "print('String centrado:')\n",
        "print(s1.center(50))\n",
        "print(s1.center(50, '_'))\n",
        "\n",
        "print('\\n\\nAlineado a la izquierda:')\n",
        "print(s1.ljust(50))\n",
        "print(s1.ljust(50, '<'))\n",
        "\n",
        "print('\\n\\nAlineado a la derecha:')\n",
        "print(s1.rjust(50))\n",
        "print(s1.rjust(50, '>'))\n",
        "\n",
        "print('\\n\\nCompletar con 0')\n",
        "print('-123.45'.zfill(4))\n",
        "print('-123.45'.zfill(12))\n"
      ],
      "execution_count": 60,
      "outputs": [
        {
          "output_type": "stream",
          "text": [
            "String centrado:\n",
            "        fundamentos de programación Python        \n",
            "________fundamentos de programación Python________\n",
            "\n",
            "\n",
            "Alineado a la izquierda:\n",
            "fundamentos de programación Python                \n",
            "fundamentos de programación Python<<<<<<<<<<<<<<<<\n",
            "\n",
            "\n",
            "Alineado a la derecha:\n",
            "                fundamentos de programación Python\n",
            ">>>>>>>>>>>>>>>>fundamentos de programación Python\n",
            "\n",
            "\n",
            "Completar con 0\n",
            "-123.45\n",
            "-00000123.45\n"
          ],
          "name": "stdout"
        }
      ]
    },
    {
      "cell_type": "code",
      "metadata": {
        "colab": {
          "base_uri": "https://localhost:8080/"
        },
        "id": "E1qYeMzOfcjq",
        "outputId": "91a0951d-47d8-4d65-ef2f-b3737ae980d4"
      },
      "source": [
        "\n",
        "#Funciones de texto\n",
        "\n",
        "s1 = 'el motivo de mi RECLAMO es la demora en la entrega del producto que compré ONLINE, pésimo servicio.'\n",
        "\n",
        "print('Minúsculas:\\n', s1.lower())\n",
        "print('\\nMayúsculas:\\n', s1.upper())\n",
        "\n",
        "print('\\nPrimera letra en mayúscula:\\n', s1.capitalize())\n",
        "print('\\nPrimera letra de cada palabra en mayúscula:\\n', s1.title())\n",
        "\n",
        "print('\\nIntercambiar entre mayúsculas y minúsculas:\\n', s1.swapcase())"
      ],
      "execution_count": 62,
      "outputs": [
        {
          "output_type": "stream",
          "text": [
            "Minúsculas:\n",
            " el motivo de mi reclamo es la demora en la entrega del producto que compré online, pésimo servicio.\n",
            "\n",
            "Mayúsculas:\n",
            " EL MOTIVO DE MI RECLAMO ES LA DEMORA EN LA ENTREGA DEL PRODUCTO QUE COMPRÉ ONLINE, PÉSIMO SERVICIO.\n",
            "\n",
            "Primera letra en mayúscula:\n",
            " El motivo de mi reclamo es la demora en la entrega del producto que compré online, pésimo servicio.\n",
            "\n",
            "Primera letra de cada palabra en mayúscula:\n",
            " El Motivo De Mi Reclamo Es La Demora En La Entrega Del Producto Que Compré Online, Pésimo Servicio.\n",
            "\n",
            "Intercambiar entre mayúsculas y minúsculas:\n",
            " EL MOTIVO DE MI reclamo ES LA DEMORA EN LA ENTREGA DEL PRODUCTO QUE COMPRÉ online, PÉSIMO SERVICIO.\n"
          ],
          "name": "stdout"
        }
      ]
    },
    {
      "cell_type": "code",
      "metadata": {
        "colab": {
          "base_uri": "https://localhost:8080/"
        },
        "id": "RBKBi_Ypf7EU",
        "outputId": "26332683-8132-42d3-b66c-3d55949fe1c4"
      },
      "source": [
        "#Reemplazar, buscar y dividir.\n",
        "\n",
        "s = 'Python es un lenguaje de tipado dinamico.'\n",
        "\n",
        "lista_palabras = s.split()\n",
        "print(lista_palabras)"
      ],
      "execution_count": 63,
      "outputs": [
        {
          "output_type": "stream",
          "text": [
            "['Python', 'es', 'un', 'lenguaje', 'de', 'tipado', 'dinamico.']\n"
          ],
          "name": "stdout"
        }
      ]
    },
    {
      "cell_type": "code",
      "metadata": {
        "id": "2jkl1PURgTR_"
      },
      "source": [
        "# () es una tupla "
      ],
      "execution_count": null,
      "outputs": []
    },
    {
      "cell_type": "code",
      "metadata": {
        "colab": {
          "base_uri": "https://localhost:8080/"
        },
        "id": "zib-ZpFLgeDc",
        "outputId": "2bd6383f-810b-4384-81ac-7eccfa46d6da"
      },
      "source": [
        "#Función Zip\n",
        "paises = [\"China\", \"India\", \"Estados Unidos\", \"Indonesia\"]\n",
        "poblaciones = [1391, 1364, 327, 264]\n",
        "list(zip(paises, poblaciones))"
      ],
      "execution_count": 66,
      "outputs": [
        {
          "output_type": "execute_result",
          "data": {
            "text/plain": [
              "[('China', 1391), ('India', 1364), ('Estados Unidos', 327), ('Indonesia', 264)]"
            ]
          },
          "metadata": {
            "tags": []
          },
          "execution_count": 66
        }
      ]
    }
  ]
}