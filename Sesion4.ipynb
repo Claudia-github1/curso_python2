{
  "nbformat": 4,
  "nbformat_minor": 0,
  "metadata": {
    "colab": {
      "name": "Sesion4.ipynb",
      "provenance": [],
      "collapsed_sections": [],
      "authorship_tag": "ABX9TyM+ibLDTjUh8Zb1G1yayz2a",
      "include_colab_link": true
    },
    "kernelspec": {
      "name": "python3",
      "display_name": "Python 3"
    }
  },
  "cells": [
    {
      "cell_type": "markdown",
      "metadata": {
        "id": "view-in-github",
        "colab_type": "text"
      },
      "source": [
        "<a href=\"https://colab.research.google.com/github/Claudia-github1/curso_python2/blob/main/Sesion4.ipynb\" target=\"_parent\"><img src=\"https://colab.research.google.com/assets/colab-badge.svg\" alt=\"Open In Colab\"/></a>"
      ]
    },
    {
      "cell_type": "code",
      "metadata": {
        "id": "uHZEGPMmsTWS"
      },
      "source": [
        "lista = ['uno', 'dos', 'tres']\n",
        "cad = ''\n",
        "for ele in lista:\n",
        "  cadena_concatenada = candena_concatenada + else\n",
        "\n"
      ],
      "execution_count": null,
      "outputs": []
    },
    {
      "cell_type": "code",
      "metadata": {
        "id": "WiVu8v0ItOIu",
        "outputId": "5cef573f-4d3a-4aa9-eb7b-94aa5dacd5c6",
        "colab": {
          "base_uri": "https://localhost:8080/",
          "height": 132
        }
      },
      "source": [
        "lista = ['uno ', 'dos ', 'tres ']\n",
        "cadena_concatenada = ''\n",
        "for numero in lista:\n",
        "  print(numero)\n",
        "  cadena_concatenada += numero\n",
        "  print(cadena_concatenada)\n",
        "\n",
        "cadena_concatenada"
      ],
      "execution_count": 3,
      "outputs": [
        {
          "output_type": "stream",
          "text": [
            "uno \n",
            "uno \n",
            "dos \n",
            "uno dos \n",
            "tres \n",
            "uno dos tres \n"
          ],
          "name": "stdout"
        },
        {
          "output_type": "execute_result",
          "data": {
            "application/vnd.google.colaboratory.intrinsic+json": {
              "type": "string"
            },
            "text/plain": [
              "'uno dos tres '"
            ]
          },
          "metadata": {
            "tags": []
          },
          "execution_count": 3
        }
      ]
    },
    {
      "cell_type": "code",
      "metadata": {
        "id": "Nq2u0RyhuFC8"
      },
      "source": [
        "# estrictamente tipado en java, pero python no ees estrictamente tipado "
      ],
      "execution_count": null,
      "outputs": []
    },
    {
      "cell_type": "markdown",
      "metadata": {
        "id": "GrJxGZBmuR5H"
      },
      "source": [
        "##WHILE\n",
        "\n",
        "Es un bucle, parecido el for. "
      ]
    },
    {
      "cell_type": "code",
      "metadata": {
        "id": "eJwGEUpBufhy",
        "outputId": "1cd1b91f-9a10-47f9-da81-3f033a59a45d",
        "colab": {
          "base_uri": "https://localhost:8080/"
        }
      },
      "source": [
        "#CASO 3\n",
        "\n",
        "x = 0\n",
        "y = 3\n",
        "while x < y:\n",
        "  print(x)\n",
        "  x +=1"
      ],
      "execution_count": 5,
      "outputs": [
        {
          "output_type": "stream",
          "text": [
            "0\n",
            "1\n",
            "2\n"
          ],
          "name": "stdout"
        }
      ]
    },
    {
      "cell_type": "code",
      "metadata": {
        "id": "uq_JZWNlvVGj",
        "outputId": "f9cbc3f1-9d2c-44d2-b42b-8ec437fb3f72",
        "colab": {
          "base_uri": "https://localhost:8080/"
        }
      },
      "source": [
        "x = 0\n",
        "y = 3\n",
        "while x < y:\n",
        "  print(x)\n",
        "  x +=1\n",
        "  print('despues de la suma')\n",
        "  print(x)"
      ],
      "execution_count": 6,
      "outputs": [
        {
          "output_type": "stream",
          "text": [
            "0\n",
            "despues de la suma\n",
            "1\n",
            "1\n",
            "despues de la suma\n",
            "2\n",
            "2\n",
            "despues de la suma\n",
            "3\n"
          ],
          "name": "stdout"
        }
      ]
    },
    {
      "cell_type": "code",
      "metadata": {
        "id": "ALkW1TkOvs81",
        "outputId": "ead1d451-2c24-480f-bd69-427161274960",
        "colab": {
          "base_uri": "https://localhost:8080/"
        }
      },
      "source": [
        "#CASO 3 \n",
        "x = 0\n",
        "y = 3\n",
        "while x < y: # La condición \n",
        "  print(x)   #Primera interacción \n",
        "  x +=1      #x vale cero y le va a sumar 1\n",
        "  if x == 2: # Primera interacción x = 1 no entra \n",
        "    break    # Esta función es para cortar el proceso\n",
        "  else:\n",
        "    print('x no es igual a dos')\n"
      ],
      "execution_count": 9,
      "outputs": [
        {
          "output_type": "stream",
          "text": [
            "0\n",
            "x no es igual a dos\n",
            "1\n"
          ],
          "name": "stdout"
        }
      ]
    },
    {
      "cell_type": "markdown",
      "metadata": {
        "id": "lF91dr2LxEzw"
      },
      "source": [
        "Cuando utilizas un administrador de codigo, sale por si los IDE que son las sepaciones como *VISUAL CODE* \n",
        "Los IDE  tienen diferentes tecnologias"
      ]
    },
    {
      "cell_type": "markdown",
      "metadata": {
        "id": "rbMzfr_UxWnR"
      },
      "source": [
        "## FUNCIONES \n",
        "\n",
        "Las funciones tienen todos los lenguajes de programación pero su sintesis es diferente\n",
        "\n",
        "\n",
        "if else en php y python tiene la razón de ser pero la sintaxis es diferente, \n",
        "\n",
        "Es un elemento cross en todos los de lenguaje. \n",
        "\n",
        "**texto en negrita**"
      ]
    },
    {
      "cell_type": "code",
      "metadata": {
        "id": "sVDxIqz-zR-U",
        "outputId": "647aabea-0a4d-433e-a5b1-8cb6e2decc4d",
        "colab": {
          "base_uri": "https://localhost:8080/"
        }
      },
      "source": [
        "def funcion_mensaje(): #declarar una función def\n",
        "  print( 'mi primera funcion' ) #Aca estamos creando la función\n",
        "\n",
        "funcion_mensaje() #Parecido a una varible pero se requiere el parentesis"
      ],
      "execution_count": 12,
      "outputs": [
        {
          "output_type": "stream",
          "text": [
            "mi primera funcion\n"
          ],
          "name": "stdout"
        }
      ]
    },
    {
      "cell_type": "code",
      "metadata": {
        "id": "pbMdHeSszxIn",
        "outputId": "08917855-b5f3-415e-c2f3-646c47d30be3",
        "colab": {
          "base_uri": "https://localhost:8080/"
        }
      },
      "source": [
        "def funcion_mensaje():\n",
        "  print('mi primera funcion') #Aca estamos creando la función\n",
        "  print ('saludando')\n",
        "\n",
        "funcion_mensaje() #Parecido a una varible pero se requiere el parentesis"
      ],
      "execution_count": 14,
      "outputs": [
        {
          "output_type": "stream",
          "text": [
            "mi primera funcion\n",
            "saludando\n"
          ],
          "name": "stdout"
        }
      ]
    },
    {
      "cell_type": "code",
      "metadata": {
        "id": "ZNcAKDonz-n8",
        "outputId": "d00f94cd-3c39-46f1-81b9-2114da0354a1",
        "colab": {
          "base_uri": "https://localhost:8080/"
        }
      },
      "source": [
        "def funcion_mensaje():\n",
        "  print('mi primera funcion') #Aca estamos creando la función\n",
        "print ('saludando')  #Es importante si esta tabulado o no \n",
        "\n",
        "funcion_mensaje() #Parecido a una varible pero se requiere el parentesis"
      ],
      "execution_count": 15,
      "outputs": [
        {
          "output_type": "stream",
          "text": [
            "saludando\n",
            "mi primera funcion\n"
          ],
          "name": "stdout"
        }
      ]
    },
    {
      "cell_type": "code",
      "metadata": {
        "id": "yLkQ7-T60Tkj",
        "outputId": "a0acd18b-5417-4df9-b649-ff6f79e03dd7",
        "colab": {
          "base_uri": "https://localhost:8080/",
          "height": 191
        }
      },
      "source": [
        "def funcion_mensaje(nombre_cliente):\n",
        "  print('mi primera funcion') #Aca estamos creando la función\n",
        "  print ('saludando')  #Es importante si esta tabulado o no    \n",
        "\n",
        "funcion_mensaje()\n"
      ],
      "execution_count": 16,
      "outputs": [
        {
          "output_type": "error",
          "ename": "TypeError",
          "evalue": "ignored",
          "traceback": [
            "\u001b[0;31m---------------------------------------------------------------------------\u001b[0m",
            "\u001b[0;31mTypeError\u001b[0m                                 Traceback (most recent call last)",
            "\u001b[0;32m<ipython-input-16-154b462b5fda>\u001b[0m in \u001b[0;36m<module>\u001b[0;34m()\u001b[0m\n\u001b[1;32m      3\u001b[0m   \u001b[0mprint\u001b[0m \u001b[0;34m(\u001b[0m\u001b[0;34m'saludando'\u001b[0m\u001b[0;34m)\u001b[0m  \u001b[0;31m#Es importante si esta tabulado o no\u001b[0m\u001b[0;34m\u001b[0m\u001b[0;34m\u001b[0m\u001b[0m\n\u001b[1;32m      4\u001b[0m \u001b[0;34m\u001b[0m\u001b[0m\n\u001b[0;32m----> 5\u001b[0;31m \u001b[0mfuncion_mensaje\u001b[0m\u001b[0;34m(\u001b[0m\u001b[0;34m)\u001b[0m\u001b[0;34m\u001b[0m\u001b[0;34m\u001b[0m\u001b[0m\n\u001b[0m",
            "\u001b[0;31mTypeError\u001b[0m: funcion_mensaje() missing 1 required positional argument: 'nombre_cliente'"
          ]
        }
      ]
    },
    {
      "cell_type": "code",
      "metadata": {
        "id": "X9PzZVZq0n4A",
        "outputId": "78b7e881-0e01-45e6-a3e1-0d6eea5d8ca1",
        "colab": {
          "base_uri": "https://localhost:8080/"
        }
      },
      "source": [
        "def funcion_mensaje(nombre_cliente):\n",
        "  print('mi primera funcion') #Aca estamos creando la función\n",
        "  print ('saludando al cliente')  #Es importante si esta tabulado o no    \n",
        "\n",
        "xxxxx ='clau'\n",
        "funcion_mensaje(xxxxx)"
      ],
      "execution_count": 19,
      "outputs": [
        {
          "output_type": "stream",
          "text": [
            "mi primera funcion\n",
            "saludando al cliente\n"
          ],
          "name": "stdout"
        }
      ]
    },
    {
      "cell_type": "code",
      "metadata": {
        "id": "70BIkY3G15UK",
        "outputId": "431273a4-b6c1-403b-a308-eb73881bd66b",
        "colab": {
          "base_uri": "https://localhost:8080/"
        }
      },
      "source": [
        "def funcion_mensaje(nombre_cliente):\n",
        "  print('mi primera funcion') #Aca estamos creando la función\n",
        "  print ('saludando al cliente', nombre_cliente)  #Es importante si esta tabulado o no    \n",
        "\n",
        "xxxxx ='clau'\n",
        "funcion_mensaje(xxxxx)"
      ],
      "execution_count": 18,
      "outputs": [
        {
          "output_type": "stream",
          "text": [
            "mi primera funcion\n",
            "saludando al cliente clau\n"
          ],
          "name": "stdout"
        }
      ]
    },
    {
      "cell_type": "code",
      "metadata": {
        "id": "ePz5d0Io1PPO",
        "outputId": "1d0d1fd9-e640-449e-eb11-4e724f9fe303",
        "colab": {
          "base_uri": "https://localhost:8080/"
        }
      },
      "source": [
        "def funcion_mensaje(nombre_cliente):\n",
        "  print('mi primera funcion') #Aca estamos creando la función\n",
        "  print ('saludando al cliente', nombre_cliente)  #Es importante si esta tabulado o no    \n",
        "\n",
        "lista_nombre = ['juan', 'clau', 'marco']\n",
        "\n",
        "for nombre in lista_nombre:\n",
        "    funcion_mensaje(nombre)"
      ],
      "execution_count": 21,
      "outputs": [
        {
          "output_type": "stream",
          "text": [
            "mi primera funcion\n",
            "saludando al cliente juan\n",
            "mi primera funcion\n",
            "saludando al cliente clau\n",
            "mi primera funcion\n",
            "saludando al cliente marco\n"
          ],
          "name": "stdout"
        }
      ]
    },
    {
      "cell_type": "code",
      "metadata": {
        "id": "ytbtw0zC3bxk",
        "outputId": "2eab97c8-bb85-4ebb-a028-822d6f9fc0c1",
        "colab": {
          "base_uri": "https://localhost:8080/"
        }
      },
      "source": [
        "def funcion_mensaje(nombre_cliente):\n",
        "  print('mi primera funcion') #Aca estamos creando la función\n",
        "  print ('saludando al cliente', nombre_cliente)  #Es importante si esta tabulado o no    \n",
        "\n",
        "lista_nombre = ['juan', 'clau', 'marco']\n",
        "edad = ['23', '24' , '26']\n",
        "\n",
        "dic ={\n",
        "    'nombre_clientes' : lista_nombre,\n",
        "    'edad' : edad\n",
        "}\n",
        " \n",
        "for nombre in dic['nombre_clientes']:\n",
        "    funcion_mensaje(nombre)"
      ],
      "execution_count": 22,
      "outputs": [
        {
          "output_type": "stream",
          "text": [
            "mi primera funcion\n",
            "saludando al cliente juan\n",
            "mi primera funcion\n",
            "saludando al cliente clau\n",
            "mi primera funcion\n",
            "saludando al cliente marco\n"
          ],
          "name": "stdout"
        }
      ]
    },
    {
      "cell_type": "code",
      "metadata": {
        "id": "HuQpIbNJ8wHI"
      },
      "source": [
        "def resta (a,b) : \n",
        "  resta = a - b \n",
        "  mesaje = 'la resta es : ' + str (resta)\n",
        "  return resta\n",
        "\n",
        "variable_resta = (resta )"
      ],
      "execution_count": null,
      "outputs": []
    },
    {
      "cell_type": "code",
      "metadata": {
        "id": "85ko-Jxp9H-8"
      },
      "source": [
        ""
      ],
      "execution_count": null,
      "outputs": []
    },
    {
      "cell_type": "markdown",
      "metadata": {
        "id": "ywlVpx_V9Iah"
      },
      "source": [
        "CLASES "
      ]
    },
    {
      "cell_type": "code",
      "metadata": {
        "id": "T7sqsX6S9LQs"
      },
      "source": [
        ""
      ],
      "execution_count": null,
      "outputs": []
    },
    {
      "cell_type": "code",
      "metadata": {
        "id": "SwmCXOk59LWK",
        "outputId": "af530835-c424-4ecd-a38e-14feb944b733",
        "colab": {
          "base_uri": "https://localhost:8080/"
        }
      },
      "source": [
        "class Persona(object):\n",
        "    \"\"\"Clase que representa una Persona\"\"\"\n",
        "\n",
        "    def __init__(self, cedula, nombre, apellido, sexo):\n",
        "        \"\"\"Constructor de clase Persona\"\"\"\n",
        "        self.cedula = cedula\n",
        "        self.nombre = nombre\n",
        "        self.apellido = apellido\n",
        "        self.sexo = sexo\n",
        "\n",
        "\n",
        "    def __str__(self):\n",
        "        \"\"\"Devuelve una cadena representativa de Persona\"\"\"\n",
        "        return \"%s: %s, %s %s, %s.\" % (\n",
        "            self.__doc__[25:34], str(self.cedula), self.nombre, \n",
        "            self.apellido, self.getGenero(self.sexo))\n",
        "\n",
        "    def hablar(self, mensaje):\n",
        "        \"\"\"Mostrar mensaje de saludo de Persona\"\"\"\n",
        "        return mensaje\n",
        "\n",
        "    def getGenero(self):\n",
        "        \"\"\"Mostrar el genero de la Persona\"\"\"\n",
        "        genero = ('Masculino','Femenino')  #tuppla\n",
        "        if self.sexo == \"M\":\n",
        "            return genero[0]\n",
        "        elif self.sexo == \"F\":\n",
        "            return genero[1]\n",
        "        else:\n",
        "            return \"Desconocido\"\n",
        "\n",
        "variable_persona = Persona(71752728,\"Juan\",\"Salinas\",\"M\")            \n",
        "print(variable_persona.getGenero())\n",
        "\n",
        "\n",
        "#Yo no estoy ningun dato a la persona, se infiere  de los datos que hemos ingresado\n"
      ],
      "execution_count": 26,
      "outputs": [
        {
          "output_type": "stream",
          "text": [
            "Masculino\n"
          ],
          "name": "stdout"
        }
      ]
    },
    {
      "cell_type": "code",
      "metadata": {
        "id": "-Rbyqr0N_f3u",
        "outputId": "7d62280c-81d6-4b81-dfd6-9cf268187b0f",
        "colab": {
          "base_uri": "https://localhost:8080/"
        }
      },
      "source": [
        "class Persona(object):\n",
        "    \"\"\"Clase que representa una Persona\"\"\"\n",
        "\n",
        "    def __init__(self, cedula, nombre, apellido, sexo):\n",
        "        \"\"\"Constructor de clase Persona\"\"\"\n",
        "        self.cedula = cedula\n",
        "        self.nombre = nombre\n",
        "        self.apellido = apellido\n",
        "        self.sexo = sexo\n",
        "\n",
        "\n",
        "    def __str__(self):\n",
        "        \"\"\"Devuelve una cadena representativa de Persona\"\"\"\n",
        "        return \"%s: %s, %s %s, %s.\" % (\n",
        "            self.__doc__[25:34], str(self.cedula), self.nombre, \n",
        "            self.apellido, self.getGenero(self.sexo))\n",
        "\n",
        "    def hablar(self, mensaje):\n",
        "        \"\"\"Mostrar mensaje de saludo de Persona\"\"\"\n",
        "        return mensaje\n",
        "\n",
        "    def getGenero(self):\n",
        "        \"\"\"Mostrar el genero de la Persona\"\"\"\n",
        "        genero = ('Masculino','Femenino')\n",
        "        if self.sexo == \"M\":\n",
        "            return genero[0]\n",
        "        elif self.sexo == \"F\":\n",
        "            return genero[1]\n",
        "        else:\n",
        "            return \"Desconocido\"\n",
        "\n",
        "variabl_persona = Persona(71752728,\"Juan\",\"Salinas\",\"M\")            \n",
        "print(variable_persona.getGenero())\n",
        "print(variable_persona.hablar('mensaje'))"
      ],
      "execution_count": 34,
      "outputs": [
        {
          "output_type": "stream",
          "text": [
            "Masculino\n",
            "mensaje\n"
          ],
          "name": "stdout"
        }
      ]
    },
    {
      "cell_type": "code",
      "metadata": {
        "id": "b-mOl7b5BP5s",
        "outputId": "55f0e664-7461-4eee-b938-6b3138c283e6",
        "colab": {
          "base_uri": "https://localhost:8080/",
          "height": 35
        }
      },
      "source": [
        "class Supervisor(Persona):\n",
        "    \"\"\"Clase que representa a un Supervisor\"\"\"\n",
        "\n",
        "    def __init__(self, cedula, nombre, apellido, sexo, rol):\n",
        "        \"\"\"Constructor de clase Supervisor\"\"\"\n",
        "\n",
        "        # Invoca al constructor de clase Persona\n",
        "        Persona.__init__(self, cedula, nombre, apellido, sexo)\n",
        "\n",
        "        # Nuevos atributos\n",
        "        self.rol = rol\n",
        "        self.tareas = ['10','11','12','13']\n",
        "\n",
        "    def __str__(self):\n",
        "        \"\"\"Devuelve una cadena representativa al Supervisor\"\"\"\n",
        "        return \"%s: %s %s, rol: '%s', sus tareas: %s.\" % (\n",
        "            self.__doc__[26:37], self.nombre, self.apellido, \n",
        "            self.rol, self.consulta_tareas())\n",
        "\n",
        "    def consulta_tareas(self):\n",
        "        \"\"\"Mostrar las tareas del Supervisor\"\"\"\n",
        "        return ', '.join(self.tareas)\n",
        "\n",
        "\n",
        "supervisor1 = Supervisor(\"V-16987456\", \"Jen\", \"Paz\", \"M\", \"Técnico\")         \n",
        "supervisor1.getGenero()"
      ],
      "execution_count": 35,
      "outputs": [
        {
          "output_type": "execute_result",
          "data": {
            "application/vnd.google.colaboratory.intrinsic+json": {
              "type": "string"
            },
            "text/plain": [
              "'Masculino'"
            ]
          },
          "metadata": {
            "tags": []
          },
          "execution_count": 35
        }
      ]
    },
    {
      "cell_type": "code",
      "metadata": {
        "id": "7HhQLeraBY2X",
        "outputId": "1c45b837-f1a4-464c-f981-5ca49a3c2830",
        "colab": {
          "base_uri": "https://localhost:8080/",
          "height": 35
        }
      },
      "source": [
        "class Supervisor(Persona):\n",
        "    \"\"\"Clase que representa a un Supervisor\"\"\"\n",
        "\n",
        "    def __init__(self, cedula, nombre, apellido, sexo, rol):\n",
        "        \"\"\"Constructor de clase Supervisor\"\"\"\n",
        "\n",
        "        # Invoca al constructor de clase Persona\n",
        "        Persona.__init__(self, cedula, nombre, apellido, sexo)\n",
        "\n",
        "        # Nuevos atributos\n",
        "        self.rol = rol\n",
        "        self.tareas = ['10','11','12','13']\n",
        "\n",
        "    def __str__(self):\n",
        "        \"\"\"Devuelve una cadena representativa al Supervisor\"\"\"\n",
        "        return \"%s: %s %s, rol: '%s', sus tareas: %s.\" % (\n",
        "            self.__doc__[26:37], self.nombre, self.apellido, \n",
        "            self.rol, self.consulta_tareas())\n",
        "\n",
        "    def consulta_tareas(self):\n",
        "        \"\"\"Mostrar las tareas del Supervisor\"\"\"\n",
        "        return ', '.join(self.tareas)\n",
        "\n",
        "\n",
        "supervisor1 = Supervisor(\"V-16987456\", \"Jen\", \"Paz\", \"M\", \"Técnico\")         \n",
        "supervisor1.hablar('mensaje ok')"
      ],
      "execution_count": 36,
      "outputs": [
        {
          "output_type": "execute_result",
          "data": {
            "application/vnd.google.colaboratory.intrinsic+json": {
              "type": "string"
            },
            "text/plain": [
              "'mensaje ok'"
            ]
          },
          "metadata": {
            "tags": []
          },
          "execution_count": 36
        }
      ]
    },
    {
      "cell_type": "code",
      "metadata": {
        "id": "_D9TPRI5CR_M"
      },
      "source": [
        "data frame es una tabla , es para analisi de dato \n",
        "pero las clases son prar las funciones , generar reglas "
      ],
      "execution_count": null,
      "outputs": []
    }
  ]
}