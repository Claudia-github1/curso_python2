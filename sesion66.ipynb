{
  "nbformat": 4,
  "nbformat_minor": 0,
  "metadata": {
    "colab": {
      "name": "sesion66.ipynb",
      "provenance": [],
      "authorship_tag": "ABX9TyPCB5p9LOx+bhgA2dO8prol",
      "include_colab_link": true
    },
    "kernelspec": {
      "name": "python3",
      "display_name": "Python 3"
    }
  },
  "cells": [
    {
      "cell_type": "markdown",
      "metadata": {
        "id": "view-in-github",
        "colab_type": "text"
      },
      "source": [
        "<a href=\"https://colab.research.google.com/github/Claudia-github1/curso_python2/blob/main/sesion66.ipynb\" target=\"_parent\"><img src=\"https://colab.research.google.com/assets/colab-badge.svg\" alt=\"Open In Colab\"/></a>"
      ]
    },
    {
      "cell_type": "code",
      "metadata": {
        "id": "oTNKQbN9wUVN"
      },
      "source": [
        "import pandas as pd\n",
        "import numpy as np\n",
        "import matplotlib.pyplot as plt"
      ],
      "execution_count": 1,
      "outputs": []
    },
    {
      "cell_type": "code",
      "metadata": {
        "colab": {
          "base_uri": "https://localhost:8080/"
        },
        "id": "Rnhoap1-xW32",
        "outputId": "8efd1b4e-796f-45f8-d899-ad06568d3f49"
      },
      "source": [
        "data = [1979, 1980, 1981, 1982] #[] Es una lista\n",
        "serie = pd.Series(data)\n",
        "serie"
      ],
      "execution_count": 3,
      "outputs": [
        {
          "output_type": "execute_result",
          "data": {
            "text/plain": [
              "0    1979\n",
              "1    1980\n",
              "2    1981\n",
              "3    1982\n",
              "dtype: int64"
            ]
          },
          "metadata": {
            "tags": []
          },
          "execution_count": 3
        }
      ]
    },
    {
      "cell_type": "code",
      "metadata": {
        "colab": {
          "base_uri": "https://localhost:8080/"
        },
        "id": "9p48XLUSw8NB",
        "outputId": "f2fd6a99-83eb-4bad-bb74-f3a724e81c0f"
      },
      "source": [
        "# []Es una lista, representa la data\n",
        "# Indice aleatorio \n",
        "serie = pd.Series([1979, 1980, 1981, 1982])\n",
        "serie"
      ],
      "execution_count": 4,
      "outputs": [
        {
          "output_type": "execute_result",
          "data": {
            "text/plain": [
              "0    1979\n",
              "1    1980\n",
              "2    1981\n",
              "3    1982\n",
              "dtype: int64"
            ]
          },
          "metadata": {
            "tags": []
          },
          "execution_count": 4
        }
      ]
    },
    {
      "cell_type": "code",
      "metadata": {
        "colab": {
          "base_uri": "https://localhost:8080/"
        },
        "id": "uHBfgxlGx3Am",
        "outputId": "4492c0f7-ad81-41cf-8f05-eb59a5fa8d5e"
      },
      "source": [
        "# Indice definido \n",
        "serie = pd.Series(data=[1979, 1980, 1981, 1982, 1983],\n",
        "                  index=['carolina', 'martha', 'nicky', 'theresa', 'nicky'])\n",
        "serie"
      ],
      "execution_count": 5,
      "outputs": [
        {
          "output_type": "execute_result",
          "data": {
            "text/plain": [
              "carolina    1979\n",
              "martha      1980\n",
              "nicky       1981\n",
              "theresa     1982\n",
              "nicky       1983\n",
              "dtype: int64"
            ]
          },
          "metadata": {
            "tags": []
          },
          "execution_count": 5
        }
      ]
    },
    {
      "cell_type": "code",
      "metadata": {
        "colab": {
          "base_uri": "https://localhost:8080/"
        },
        "id": "OmnkiRIi0Y1t",
        "outputId": "2626b7bd-c430-404e-a3bc-93ab1e675a4f"
      },
      "source": [
        "#Tratamiento de datos\n",
        "print(serie['carolina'])\n",
        "print(serie[0])\n",
        "print(serie[-3:-1]) # Es un posicionamiento\n",
        "print(serie[3])\n",
        "print(serie['nicky'])\n"
      ],
      "execution_count": 18,
      "outputs": [
        {
          "output_type": "stream",
          "text": [
            "1979\n",
            "1979\n",
            "nicky      1981\n",
            "theresa    1982\n",
            "dtype: int64\n",
            "1982\n",
            "nicky    1981\n",
            "nicky    1983\n",
            "dtype: int64\n"
          ],
          "name": "stdout"
        }
      ]
    },
    {
      "cell_type": "code",
      "metadata": {
        "id": "YClBBC-S8nyv"
      },
      "source": [
        "serie\n",
        "serie_nicky = serie['nicky']\n",
        "serie_nicky\n",
        "\n",
        "serie_nicky.to_csv('serie_nicky.csv')\n"
      ],
      "execution_count": 33,
      "outputs": []
    },
    {
      "cell_type": "code",
      "metadata": {
        "id": "r9-NTUEd934J"
      },
      "source": [
        ""
      ],
      "execution_count": null,
      "outputs": []
    },
    {
      "cell_type": "code",
      "metadata": {
        "colab": {
          "base_uri": "https://localhost:8080/"
        },
        "id": "cAGMBuJgyETt",
        "outputId": "8f9401b9-3eab-4810-f584-53059c426eb4"
      },
      "source": [
        "#Manipular los datos de las series \n",
        "serie_pokemon = pd.read_csv('pokemon.csv', squeeze=True, usecols=['Name'])\n",
        "serie_pokemon"
      ],
      "execution_count": 7,
      "outputs": [
        {
          "output_type": "execute_result",
          "data": {
            "text/plain": [
              "0           Bulbasaur\n",
              "1             Ivysaur\n",
              "2            Venusaur\n",
              "3       Mega Venusaur\n",
              "4          Charmander\n",
              "            ...      \n",
              "795           Diancie\n",
              "796      Mega Diancie\n",
              "797    Hoopa Confined\n",
              "798     Hoopa Unbound\n",
              "799         Volcanion\n",
              "Name: Name, Length: 800, dtype: object"
            ]
          },
          "metadata": {
            "tags": []
          },
          "execution_count": 7
        }
      ]
    },
    {
      "cell_type": "code",
      "metadata": {
        "colab": {
          "base_uri": "https://localhost:8080/"
        },
        "id": "soMcu5T40J8u",
        "outputId": "814ba107-49e5-40db-c50e-c4f1015a18d7"
      },
      "source": [
        "serie_pokemon[1:5]"
      ],
      "execution_count": 14,
      "outputs": [
        {
          "output_type": "execute_result",
          "data": {
            "text/plain": [
              "1          Ivysaur\n",
              "2         Venusaur\n",
              "3    Mega Venusaur\n",
              "4       Charmander\n",
              "Name: Name, dtype: object"
            ]
          },
          "metadata": {
            "tags": []
          },
          "execution_count": 14
        }
      ]
    },
    {
      "cell_type": "code",
      "metadata": {
        "colab": {
          "base_uri": "https://localhost:8080/"
        },
        "id": "iG8oDWgR4-0y",
        "outputId": "cef355ac-8372-4490-d4e6-070e07519480"
      },
      "source": [
        "serie_pokemon.sort_values(ascending=False)"
      ],
      "execution_count": 20,
      "outputs": [
        {
          "output_type": "execute_result",
          "data": {
            "text/plain": [
              "794    Zygarde Half Forme\n",
              "695              Zweilous\n",
              "46                  Zubat\n",
              "631                 Zorua\n",
              "632               Zoroark\n",
              "              ...        \n",
              "678              Accelgor\n",
              "392                 Absol\n",
              "68                   Abra\n",
              "510             Abomasnow\n",
              "62                    NaN\n",
              "Name: Name, Length: 800, dtype: object"
            ]
          },
          "metadata": {
            "tags": []
          },
          "execution_count": 20
        }
      ]
    },
    {
      "cell_type": "code",
      "metadata": {
        "colab": {
          "base_uri": "https://localhost:8080/"
        },
        "id": "M4cuN1I75KPu",
        "outputId": "9cbc07ac-f821-4e49-9337-524b46007b17"
      },
      "source": [
        "serie_pokemon.value_counts()"
      ],
      "execution_count": 21,
      "outputs": [
        {
          "output_type": "execute_result",
          "data": {
            "text/plain": [
              "Muk                   1\n",
              "Golem                 1\n",
              "Heatmor               1\n",
              "Shaymin Land Forme    1\n",
              "Ponyta                1\n",
              "                     ..\n",
              "Manaphy               1\n",
              "Eevee                 1\n",
              "Duosion               1\n",
              "Gardevoir             1\n",
              "Mantine               1\n",
              "Name: Name, Length: 799, dtype: int64"
            ]
          },
          "metadata": {
            "tags": []
          },
          "execution_count": 21
        }
      ]
    },
    {
      "cell_type": "code",
      "metadata": {
        "colab": {
          "base_uri": "https://localhost:8080/",
          "height": 111
        },
        "id": "UIsQfiSr8R_R",
        "outputId": "12b701fd-115b-4de0-84c2-31566b2418b8"
      },
      "source": [
        "df = pd.DataFrame({'nombre': ['Pablo', 'Teresa'],\n",
        "                   'score': [22.2, 33.3]},\n",
        "                  index=['id1', 'id2']) # agregar indice\n",
        "df"
      ],
      "execution_count": 34,
      "outputs": [
        {
          "output_type": "execute_result",
          "data": {
            "text/html": [
              "<div>\n",
              "<style scoped>\n",
              "    .dataframe tbody tr th:only-of-type {\n",
              "        vertical-align: middle;\n",
              "    }\n",
              "\n",
              "    .dataframe tbody tr th {\n",
              "        vertical-align: top;\n",
              "    }\n",
              "\n",
              "    .dataframe thead th {\n",
              "        text-align: right;\n",
              "    }\n",
              "</style>\n",
              "<table border=\"1\" class=\"dataframe\">\n",
              "  <thead>\n",
              "    <tr style=\"text-align: right;\">\n",
              "      <th></th>\n",
              "      <th>nombre</th>\n",
              "      <th>score</th>\n",
              "    </tr>\n",
              "  </thead>\n",
              "  <tbody>\n",
              "    <tr>\n",
              "      <th>id1</th>\n",
              "      <td>Pablo</td>\n",
              "      <td>22.2</td>\n",
              "    </tr>\n",
              "    <tr>\n",
              "      <th>id2</th>\n",
              "      <td>Teresa</td>\n",
              "      <td>33.3</td>\n",
              "    </tr>\n",
              "  </tbody>\n",
              "</table>\n",
              "</div>"
            ],
            "text/plain": [
              "     nombre  score\n",
              "id1   Pablo   22.2\n",
              "id2  Teresa   33.3"
            ]
          },
          "metadata": {
            "tags": []
          },
          "execution_count": 34
        }
      ]
    },
    {
      "cell_type": "code",
      "metadata": {
        "colab": {
          "base_uri": "https://localhost:8080/"
        },
        "id": "LJpdgSxr-GK5",
        "outputId": "cb5679a0-398b-4e7c-b857-3463164b45f8"
      },
      "source": [
        "nba = pd.read_csv('nba.csv')\n",
        "nba.columns"
      ],
      "execution_count": 37,
      "outputs": [
        {
          "output_type": "execute_result",
          "data": {
            "text/plain": [
              "Index(['Player', 'height', 'weight', 'collage', 'born', 'birth_city',\n",
              "       'birth_state'],\n",
              "      dtype='object')"
            ]
          },
          "metadata": {
            "tags": []
          },
          "execution_count": 37
        }
      ]
    },
    {
      "cell_type": "code",
      "metadata": {
        "colab": {
          "base_uri": "https://localhost:8080/",
          "height": 512
        },
        "id": "-Boj565n-pSL",
        "outputId": "b973a9e5-7781-4acb-8abd-2a2823e14219"
      },
      "source": [
        "nba.head(10)"
      ],
      "execution_count": 38,
      "outputs": [
        {
          "output_type": "execute_result",
          "data": {
            "text/html": [
              "<div>\n",
              "<style scoped>\n",
              "    .dataframe tbody tr th:only-of-type {\n",
              "        vertical-align: middle;\n",
              "    }\n",
              "\n",
              "    .dataframe tbody tr th {\n",
              "        vertical-align: top;\n",
              "    }\n",
              "\n",
              "    .dataframe thead th {\n",
              "        text-align: right;\n",
              "    }\n",
              "</style>\n",
              "<table border=\"1\" class=\"dataframe\">\n",
              "  <thead>\n",
              "    <tr style=\"text-align: right;\">\n",
              "      <th></th>\n",
              "      <th>Player</th>\n",
              "      <th>height</th>\n",
              "      <th>weight</th>\n",
              "      <th>collage</th>\n",
              "      <th>born</th>\n",
              "      <th>birth_city</th>\n",
              "      <th>birth_state</th>\n",
              "    </tr>\n",
              "  </thead>\n",
              "  <tbody>\n",
              "    <tr>\n",
              "      <th>0</th>\n",
              "      <td>Curly Armstrong</td>\n",
              "      <td>180.0</td>\n",
              "      <td>77.0</td>\n",
              "      <td>Indiana University</td>\n",
              "      <td>1918.0</td>\n",
              "      <td>NaN</td>\n",
              "      <td>NaN</td>\n",
              "    </tr>\n",
              "    <tr>\n",
              "      <th>1</th>\n",
              "      <td>Cliff Barker</td>\n",
              "      <td>188.0</td>\n",
              "      <td>83.0</td>\n",
              "      <td>University of Kentucky</td>\n",
              "      <td>1921.0</td>\n",
              "      <td>Yorktown</td>\n",
              "      <td>Indiana</td>\n",
              "    </tr>\n",
              "    <tr>\n",
              "      <th>2</th>\n",
              "      <td>Leo Barnhorst</td>\n",
              "      <td>193.0</td>\n",
              "      <td>86.0</td>\n",
              "      <td>University of Notre Dame</td>\n",
              "      <td>1924.0</td>\n",
              "      <td>NaN</td>\n",
              "      <td>NaN</td>\n",
              "    </tr>\n",
              "    <tr>\n",
              "      <th>3</th>\n",
              "      <td>Ed Bartels</td>\n",
              "      <td>196.0</td>\n",
              "      <td>88.0</td>\n",
              "      <td>North Carolina State University</td>\n",
              "      <td>1925.0</td>\n",
              "      <td>NaN</td>\n",
              "      <td>NaN</td>\n",
              "    </tr>\n",
              "    <tr>\n",
              "      <th>4</th>\n",
              "      <td>Ralph Beard</td>\n",
              "      <td>178.0</td>\n",
              "      <td>79.0</td>\n",
              "      <td>University of Kentucky</td>\n",
              "      <td>1927.0</td>\n",
              "      <td>Hardinsburg</td>\n",
              "      <td>Kentucky</td>\n",
              "    </tr>\n",
              "    <tr>\n",
              "      <th>5</th>\n",
              "      <td>Gene Berce</td>\n",
              "      <td>180.0</td>\n",
              "      <td>79.0</td>\n",
              "      <td>Marquette University</td>\n",
              "      <td>1926.0</td>\n",
              "      <td>NaN</td>\n",
              "      <td>NaN</td>\n",
              "    </tr>\n",
              "    <tr>\n",
              "      <th>6</th>\n",
              "      <td>Charlie Black</td>\n",
              "      <td>196.0</td>\n",
              "      <td>90.0</td>\n",
              "      <td>University of Kansas</td>\n",
              "      <td>1921.0</td>\n",
              "      <td>Arco</td>\n",
              "      <td>Idaho</td>\n",
              "    </tr>\n",
              "    <tr>\n",
              "      <th>7</th>\n",
              "      <td>Nelson Bobb</td>\n",
              "      <td>183.0</td>\n",
              "      <td>77.0</td>\n",
              "      <td>Temple University</td>\n",
              "      <td>1924.0</td>\n",
              "      <td>Philadelphia</td>\n",
              "      <td>Pennsylvania</td>\n",
              "    </tr>\n",
              "    <tr>\n",
              "      <th>8</th>\n",
              "      <td>Jake Bornheimer</td>\n",
              "      <td>196.0</td>\n",
              "      <td>90.0</td>\n",
              "      <td>Muhlenberg College</td>\n",
              "      <td>1927.0</td>\n",
              "      <td>New Brunswick</td>\n",
              "      <td>New Jersey</td>\n",
              "    </tr>\n",
              "    <tr>\n",
              "      <th>9</th>\n",
              "      <td>Vince Boryla</td>\n",
              "      <td>196.0</td>\n",
              "      <td>95.0</td>\n",
              "      <td>University of Denver</td>\n",
              "      <td>1927.0</td>\n",
              "      <td>East Chicago</td>\n",
              "      <td>Indiana</td>\n",
              "    </tr>\n",
              "  </tbody>\n",
              "</table>\n",
              "</div>"
            ],
            "text/plain": [
              "            Player  height  weight  ...    born     birth_city   birth_state\n",
              "0  Curly Armstrong   180.0    77.0  ...  1918.0            NaN           NaN\n",
              "1     Cliff Barker   188.0    83.0  ...  1921.0       Yorktown       Indiana\n",
              "2    Leo Barnhorst   193.0    86.0  ...  1924.0            NaN           NaN\n",
              "3       Ed Bartels   196.0    88.0  ...  1925.0            NaN           NaN\n",
              "4      Ralph Beard   178.0    79.0  ...  1927.0    Hardinsburg      Kentucky\n",
              "5       Gene Berce   180.0    79.0  ...  1926.0            NaN           NaN\n",
              "6    Charlie Black   196.0    90.0  ...  1921.0           Arco         Idaho\n",
              "7      Nelson Bobb   183.0    77.0  ...  1924.0   Philadelphia  Pennsylvania\n",
              "8  Jake Bornheimer   196.0    90.0  ...  1927.0  New Brunswick    New Jersey\n",
              "9     Vince Boryla   196.0    95.0  ...  1927.0   East Chicago       Indiana\n",
              "\n",
              "[10 rows x 7 columns]"
            ]
          },
          "metadata": {
            "tags": []
          },
          "execution_count": 38
        }
      ]
    },
    {
      "cell_type": "code",
      "metadata": {
        "colab": {
          "base_uri": "https://localhost:8080/"
        },
        "id": "bO9nZ3XB_SHZ",
        "outputId": "b4e2bfc0-cbfa-4016-c5bc-94ce6d08b439"
      },
      "source": [
        "type(nba.Player), type(nba['Player']), type(nba[['Player']])"
      ],
      "execution_count": 39,
      "outputs": [
        {
          "output_type": "execute_result",
          "data": {
            "text/plain": [
              "(pandas.core.series.Series,\n",
              " pandas.core.series.Series,\n",
              " pandas.core.frame.DataFrame)"
            ]
          },
          "metadata": {
            "tags": []
          },
          "execution_count": 39
        }
      ]
    },
    {
      "cell_type": "code",
      "metadata": {
        "id": "RB9M4vNR_rzc"
      },
      "source": [
        "#DATAFRAME VS SERIE "
      ],
      "execution_count": null,
      "outputs": []
    },
    {
      "cell_type": "code",
      "metadata": {
        "colab": {
          "base_uri": "https://localhost:8080/"
        },
        "id": "3BWeBSKPAurZ",
        "outputId": "e656e921-8960-4e18-e2a2-f8b23ee9c5d4"
      },
      "source": [
        "df.loc['id2']"
      ],
      "execution_count": 40,
      "outputs": [
        {
          "output_type": "execute_result",
          "data": {
            "text/plain": [
              "nombre    Teresa\n",
              "score       33.3\n",
              "Name: id2, dtype: object"
            ]
          },
          "metadata": {
            "tags": []
          },
          "execution_count": 40
        }
      ]
    },
    {
      "cell_type": "code",
      "metadata": {
        "colab": {
          "base_uri": "https://localhost:8080/"
        },
        "id": "pDmUPV0HA_Eh",
        "outputId": "6c91690e-4e16-40b8-99e8-5a5e2b65736c"
      },
      "source": [
        "df.iloc[1]['score']"
      ],
      "execution_count": 41,
      "outputs": [
        {
          "output_type": "execute_result",
          "data": {
            "text/plain": [
              "33.3"
            ]
          },
          "metadata": {
            "tags": []
          },
          "execution_count": 41
        }
      ]
    },
    {
      "cell_type": "code",
      "metadata": {
        "colab": {
          "base_uri": "https://localhost:8080/",
          "height": 224
        },
        "id": "q3LFLk-SBWG7",
        "outputId": "7ad1cdcc-4717-4916-ff7b-a3d95abb9735"
      },
      "source": [
        "data = pd.read_csv('baseball.csv')\n",
        "data.shape\n",
        "data.head(5)"
      ],
      "execution_count": 46,
      "outputs": [
        {
          "output_type": "execute_result",
          "data": {
            "text/html": [
              "<div>\n",
              "<style scoped>\n",
              "    .dataframe tbody tr th:only-of-type {\n",
              "        vertical-align: middle;\n",
              "    }\n",
              "\n",
              "    .dataframe tbody tr th {\n",
              "        vertical-align: top;\n",
              "    }\n",
              "\n",
              "    .dataframe thead th {\n",
              "        text-align: right;\n",
              "    }\n",
              "</style>\n",
              "<table border=\"1\" class=\"dataframe\">\n",
              "  <thead>\n",
              "    <tr style=\"text-align: right;\">\n",
              "      <th></th>\n",
              "      <th>id</th>\n",
              "      <th>player</th>\n",
              "      <th>year</th>\n",
              "      <th>stint</th>\n",
              "      <th>team</th>\n",
              "      <th>lg</th>\n",
              "      <th>g</th>\n",
              "      <th>ab</th>\n",
              "      <th>r</th>\n",
              "      <th>h</th>\n",
              "      <th>X2b</th>\n",
              "      <th>X3b</th>\n",
              "      <th>hr</th>\n",
              "      <th>rbi</th>\n",
              "      <th>sb</th>\n",
              "      <th>cs</th>\n",
              "      <th>bb</th>\n",
              "      <th>so</th>\n",
              "      <th>ibb</th>\n",
              "      <th>hbp</th>\n",
              "      <th>sh</th>\n",
              "      <th>sf</th>\n",
              "      <th>gidp</th>\n",
              "    </tr>\n",
              "  </thead>\n",
              "  <tbody>\n",
              "    <tr>\n",
              "      <th>0</th>\n",
              "      <td>88641</td>\n",
              "      <td>womacto01</td>\n",
              "      <td>2006</td>\n",
              "      <td>2</td>\n",
              "      <td>CHN</td>\n",
              "      <td>NL</td>\n",
              "      <td>19</td>\n",
              "      <td>50</td>\n",
              "      <td>6</td>\n",
              "      <td>14</td>\n",
              "      <td>1</td>\n",
              "      <td>0</td>\n",
              "      <td>1</td>\n",
              "      <td>2.0</td>\n",
              "      <td>1.0</td>\n",
              "      <td>1.0</td>\n",
              "      <td>4</td>\n",
              "      <td>4.0</td>\n",
              "      <td>0.0</td>\n",
              "      <td>0.0</td>\n",
              "      <td>3.0</td>\n",
              "      <td>0.0</td>\n",
              "      <td>0.0</td>\n",
              "    </tr>\n",
              "    <tr>\n",
              "      <th>1</th>\n",
              "      <td>88643</td>\n",
              "      <td>schilcu01</td>\n",
              "      <td>2006</td>\n",
              "      <td>1</td>\n",
              "      <td>BOS</td>\n",
              "      <td>AL</td>\n",
              "      <td>31</td>\n",
              "      <td>2</td>\n",
              "      <td>0</td>\n",
              "      <td>1</td>\n",
              "      <td>0</td>\n",
              "      <td>0</td>\n",
              "      <td>0</td>\n",
              "      <td>0.0</td>\n",
              "      <td>0.0</td>\n",
              "      <td>0.0</td>\n",
              "      <td>0</td>\n",
              "      <td>1.0</td>\n",
              "      <td>0.0</td>\n",
              "      <td>0.0</td>\n",
              "      <td>0.0</td>\n",
              "      <td>0.0</td>\n",
              "      <td>0.0</td>\n",
              "    </tr>\n",
              "    <tr>\n",
              "      <th>2</th>\n",
              "      <td>88645</td>\n",
              "      <td>myersmi01</td>\n",
              "      <td>2006</td>\n",
              "      <td>1</td>\n",
              "      <td>NYA</td>\n",
              "      <td>AL</td>\n",
              "      <td>62</td>\n",
              "      <td>0</td>\n",
              "      <td>0</td>\n",
              "      <td>0</td>\n",
              "      <td>0</td>\n",
              "      <td>0</td>\n",
              "      <td>0</td>\n",
              "      <td>0.0</td>\n",
              "      <td>0.0</td>\n",
              "      <td>0.0</td>\n",
              "      <td>0</td>\n",
              "      <td>0.0</td>\n",
              "      <td>0.0</td>\n",
              "      <td>0.0</td>\n",
              "      <td>0.0</td>\n",
              "      <td>0.0</td>\n",
              "      <td>0.0</td>\n",
              "    </tr>\n",
              "    <tr>\n",
              "      <th>3</th>\n",
              "      <td>88649</td>\n",
              "      <td>helliri01</td>\n",
              "      <td>2006</td>\n",
              "      <td>1</td>\n",
              "      <td>MIL</td>\n",
              "      <td>NL</td>\n",
              "      <td>20</td>\n",
              "      <td>3</td>\n",
              "      <td>0</td>\n",
              "      <td>0</td>\n",
              "      <td>0</td>\n",
              "      <td>0</td>\n",
              "      <td>0</td>\n",
              "      <td>0.0</td>\n",
              "      <td>0.0</td>\n",
              "      <td>0.0</td>\n",
              "      <td>0</td>\n",
              "      <td>2.0</td>\n",
              "      <td>0.0</td>\n",
              "      <td>0.0</td>\n",
              "      <td>0.0</td>\n",
              "      <td>0.0</td>\n",
              "      <td>0.0</td>\n",
              "    </tr>\n",
              "    <tr>\n",
              "      <th>4</th>\n",
              "      <td>88650</td>\n",
              "      <td>johnsra05</td>\n",
              "      <td>2006</td>\n",
              "      <td>1</td>\n",
              "      <td>NYA</td>\n",
              "      <td>AL</td>\n",
              "      <td>33</td>\n",
              "      <td>6</td>\n",
              "      <td>0</td>\n",
              "      <td>1</td>\n",
              "      <td>0</td>\n",
              "      <td>0</td>\n",
              "      <td>0</td>\n",
              "      <td>0.0</td>\n",
              "      <td>0.0</td>\n",
              "      <td>0.0</td>\n",
              "      <td>0</td>\n",
              "      <td>4.0</td>\n",
              "      <td>0.0</td>\n",
              "      <td>0.0</td>\n",
              "      <td>0.0</td>\n",
              "      <td>0.0</td>\n",
              "      <td>0.0</td>\n",
              "    </tr>\n",
              "  </tbody>\n",
              "</table>\n",
              "</div>"
            ],
            "text/plain": [
              "      id     player  year  stint team  lg  ...   so  ibb  hbp   sh   sf  gidp\n",
              "0  88641  womacto01  2006      2  CHN  NL  ...  4.0  0.0  0.0  3.0  0.0   0.0\n",
              "1  88643  schilcu01  2006      1  BOS  AL  ...  1.0  0.0  0.0  0.0  0.0   0.0\n",
              "2  88645  myersmi01  2006      1  NYA  AL  ...  0.0  0.0  0.0  0.0  0.0   0.0\n",
              "3  88649  helliri01  2006      1  MIL  NL  ...  2.0  0.0  0.0  0.0  0.0   0.0\n",
              "4  88650  johnsra05  2006      1  NYA  AL  ...  4.0  0.0  0.0  0.0  0.0   0.0\n",
              "\n",
              "[5 rows x 23 columns]"
            ]
          },
          "metadata": {
            "tags": []
          },
          "execution_count": 46
        }
      ]
    },
    {
      "cell_type": "code",
      "metadata": {
        "colab": {
          "base_uri": "https://localhost:8080/"
        },
        "id": "nd76AAsHCGnN",
        "outputId": "bf84ce16-165f-45f9-c1cf-4f86745322a9"
      },
      "source": [
        "data.axes"
      ],
      "execution_count": 47,
      "outputs": [
        {
          "output_type": "execute_result",
          "data": {
            "text/plain": [
              "[RangeIndex(start=0, stop=100, step=1),\n",
              " Index(['id', 'player', 'year', 'stint', 'team', 'lg', 'g', 'ab', 'r', 'h',\n",
              "        'X2b', 'X3b', 'hr', 'rbi', 'sb', 'cs', 'bb', 'so', 'ibb', 'hbp', 'sh',\n",
              "        'sf', 'gidp'],\n",
              "       dtype='object')]"
            ]
          },
          "metadata": {
            "tags": []
          },
          "execution_count": 47
        }
      ]
    },
    {
      "cell_type": "code",
      "metadata": {
        "id": "TiliW5k3CkRY"
      },
      "source": [
        "aframe10 = nba.head(10)\n",
        "aframe10\n",
        "aframe10.to_csv('aframe10.csv')\n",
        "\n"
      ],
      "execution_count": 55,
      "outputs": []
    },
    {
      "cell_type": "code",
      "metadata": {
        "id": "yDkQzKHeC89u"
      },
      "source": [
        ""
      ],
      "execution_count": null,
      "outputs": []
    },
    {
      "cell_type": "code",
      "metadata": {
        "colab": {
          "base_uri": "https://localhost:8080/"
        },
        "id": "rEzADRazBoVz",
        "outputId": "b77a6a75-3faa-4c94-b96e-251c3ffb7eae"
      },
      "source": [
        "data.head"
      ],
      "execution_count": 45,
      "outputs": [
        {
          "output_type": "execute_result",
          "data": {
            "text/plain": [
              "<bound method NDFrame.head of        id     player  year  stint team  lg  ...    so  ibb  hbp   sh   sf  gidp\n",
              "0   88641  womacto01  2006      2  CHN  NL  ...   4.0  0.0  0.0  3.0  0.0   0.0\n",
              "1   88643  schilcu01  2006      1  BOS  AL  ...   1.0  0.0  0.0  0.0  0.0   0.0\n",
              "2   88645  myersmi01  2006      1  NYA  AL  ...   0.0  0.0  0.0  0.0  0.0   0.0\n",
              "3   88649  helliri01  2006      1  MIL  NL  ...   2.0  0.0  0.0  0.0  0.0   0.0\n",
              "4   88650  johnsra05  2006      1  NYA  AL  ...   4.0  0.0  0.0  0.0  0.0   0.0\n",
              "..    ...        ...   ...    ...  ...  ..  ...   ...  ...  ...  ...  ...   ...\n",
              "95  89525  benitar01  2007      2  FLO  NL  ...   0.0  0.0  0.0  0.0  0.0   0.0\n",
              "96  89526  benitar01  2007      1  SFN  NL  ...   0.0  0.0  0.0  0.0  0.0   0.0\n",
              "97  89530  ausmubr01  2007      1  HOU  NL  ...  74.0  3.0  6.0  4.0  1.0  11.0\n",
              "98  89533   aloumo01  2007      1  NYN  NL  ...  30.0  5.0  2.0  0.0  3.0  13.0\n",
              "99  89534  alomasa02  2007      1  NYN  NL  ...   3.0  0.0  0.0  0.0  0.0   0.0\n",
              "\n",
              "[100 rows x 23 columns]>"
            ]
          },
          "metadata": {
            "tags": []
          },
          "execution_count": 45
        }
      ]
    },
    {
      "cell_type": "markdown",
      "metadata": {
        "id": "MF9182ceCHhG"
      },
      "source": [
        ""
      ]
    },
    {
      "cell_type": "code",
      "metadata": {
        "id": "t6YCvw6mCIdP"
      },
      "source": [
        "#objeto tiene multiples objetos "
      ],
      "execution_count": null,
      "outputs": []
    },
    {
      "cell_type": "markdown",
      "metadata": {
        "id": "HDv3BdwUxuSQ"
      },
      "source": [
        ""
      ]
    }
  ]
}