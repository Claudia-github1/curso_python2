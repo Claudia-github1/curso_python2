{
  "nbformat": 4,
  "nbformat_minor": 0,
  "metadata": {
    "colab": {
      "name": "sesion5.ipynb",
      "provenance": [],
      "authorship_tag": "ABX9TyPpT6UVRNbVzSnPMr4lIBzP",
      "include_colab_link": true
    },
    "kernelspec": {
      "name": "python3",
      "display_name": "Python 3"
    }
  },
  "cells": [
    {
      "cell_type": "markdown",
      "metadata": {
        "id": "view-in-github",
        "colab_type": "text"
      },
      "source": [
        "<a href=\"https://colab.research.google.com/github/Claudia-github1/curso_python2/blob/main/sesion5.ipynb\" target=\"_parent\"><img src=\"https://colab.research.google.com/assets/colab-badge.svg\" alt=\"Open In Colab\"/></a>"
      ]
    },
    {
      "cell_type": "markdown",
      "metadata": {
        "id": "QLMizrS2iTdG"
      },
      "source": [
        "##MANIPULACIÓN DE NÚMEROS\n",
        "\n",
        "\n"
      ]
    },
    {
      "cell_type": "code",
      "metadata": {
        "colab": {
          "base_uri": "https://localhost:8080/"
        },
        "id": "sO-MRq9tiU1w",
        "outputId": "678db2c8-18e7-4157-e9d9-f172f5a0f0ad"
      },
      "source": [
        "#SUMA\n",
        "suma = 3 + 5.6\n",
        "print(suma)\n",
        "type(suma)"
      ],
      "execution_count": 1,
      "outputs": [
        {
          "output_type": "stream",
          "text": [
            "8.6\n"
          ],
          "name": "stdout"
        },
        {
          "output_type": "execute_result",
          "data": {
            "text/plain": [
              "float"
            ]
          },
          "metadata": {
            "tags": []
          },
          "execution_count": 1
        }
      ]
    },
    {
      "cell_type": "code",
      "metadata": {
        "colab": {
          "base_uri": "https://localhost:8080/"
        },
        "id": "ciukcJl8igBT",
        "outputId": "cc805209-4c64-40be-bdff-c410b976b5ac"
      },
      "source": [
        "#RESTO\n",
        "resto = 7 % 2\n",
        "print(resto)"
      ],
      "execution_count": 2,
      "outputs": [
        {
          "output_type": "stream",
          "text": [
            "1\n"
          ],
          "name": "stdout"
        }
      ]
    },
    {
      "cell_type": "markdown",
      "metadata": {
        "id": "SUYFKGUUitdI"
      },
      "source": [
        "##MANIPULACIÓN DE NÚMEROS CON FUNCIONES"
      ]
    },
    {
      "cell_type": "code",
      "metadata": {
        "colab": {
          "base_uri": "https://localhost:8080/"
        },
        "id": "dKPMU8oeiz4l",
        "outputId": "7d208111-3a35-4707-86bd-bd9395319bfa"
      },
      "source": [
        "def sumar():\n",
        "    print(5 + 10)\n",
        "\n",
        "sumar()"
      ],
      "execution_count": 3,
      "outputs": [
        {
          "output_type": "stream",
          "text": [
            "15\n"
          ],
          "name": "stdout"
        }
      ]
    },
    {
      "cell_type": "code",
      "metadata": {
        "colab": {
          "base_uri": "https://localhost:8080/"
        },
        "id": "aHBDEXVei_PG",
        "outputId": "56014133-0d24-4d7a-8aad-aaa36a0649c1"
      },
      "source": [
        "def sumar(number1, number2):\n",
        "    print(number1 + number2)\n",
        "\n",
        "sumar(10, 15) # 25"
      ],
      "execution_count": 4,
      "outputs": [
        {
          "output_type": "stream",
          "text": [
            "25\n"
          ],
          "name": "stdout"
        }
      ]
    },
    {
      "cell_type": "code",
      "metadata": {
        "colab": {
          "base_uri": "https://localhost:8080/",
          "height": 214
        },
        "id": "ZugHES8FjbSL",
        "outputId": "5411b07c-6d36-4a40-a21b-874c8bf2811f"
      },
      "source": [
        "def sumar(number1, number2):\n",
        "    print(number1 + number2)\n",
        "\n",
        "sumar() # Error porque falta variables"
      ],
      "execution_count": 5,
      "outputs": [
        {
          "output_type": "error",
          "ename": "TypeError",
          "evalue": "ignored",
          "traceback": [
            "\u001b[0;31m---------------------------------------------------------------------------\u001b[0m",
            "\u001b[0;31mTypeError\u001b[0m                                 Traceback (most recent call last)",
            "\u001b[0;32m<ipython-input-5-d771f3fb1f75>\u001b[0m in \u001b[0;36m<module>\u001b[0;34m()\u001b[0m\n\u001b[1;32m      2\u001b[0m     \u001b[0mprint\u001b[0m\u001b[0;34m(\u001b[0m\u001b[0mnumber1\u001b[0m \u001b[0;34m+\u001b[0m \u001b[0mnumber2\u001b[0m\u001b[0;34m)\u001b[0m\u001b[0;34m\u001b[0m\u001b[0;34m\u001b[0m\u001b[0m\n\u001b[1;32m      3\u001b[0m \u001b[0;34m\u001b[0m\u001b[0m\n\u001b[0;32m----> 4\u001b[0;31m \u001b[0msumar\u001b[0m\u001b[0;34m(\u001b[0m\u001b[0;34m)\u001b[0m \u001b[0;31m# 25\u001b[0m\u001b[0;34m\u001b[0m\u001b[0;34m\u001b[0m\u001b[0m\n\u001b[0m",
            "\u001b[0;31mTypeError\u001b[0m: sumar() missing 2 required positional arguments: 'number1' and 'number2'"
          ]
        }
      ]
    },
    {
      "cell_type": "code",
      "metadata": {
        "colab": {
          "base_uri": "https://localhost:8080/"
        },
        "id": "jnz8KWoKjspd",
        "outputId": "83a496d0-5714-4f3f-d2cf-d1bc1985bf7c"
      },
      "source": [
        "def sumar(number1, number2 = 15):\n",
        "    print(number1 + number2)\n",
        "\n",
        "sumar(10) # 25"
      ],
      "execution_count": 6,
      "outputs": [
        {
          "output_type": "stream",
          "text": [
            "25\n"
          ],
          "name": "stdout"
        }
      ]
    },
    {
      "cell_type": "code",
      "metadata": {
        "colab": {
          "base_uri": "https://localhost:8080/"
        },
        "id": "Gl57zVDoj3JM",
        "outputId": "c35b9261-ddf2-42d0-d3d5-3fa49ef583c0"
      },
      "source": [
        "def sumar(number1, number2 = 15):\n",
        "    print(number1 + number2)\n",
        "\n",
        "sumar(10,10)"
      ],
      "execution_count": 7,
      "outputs": [
        {
          "output_type": "stream",
          "text": [
            "20\n"
          ],
          "name": "stdout"
        }
      ]
    },
    {
      "cell_type": "code",
      "metadata": {
        "id": "GHTVjY4VlaAl"
      },
      "source": [
        ""
      ],
      "execution_count": null,
      "outputs": []
    },
    {
      "cell_type": "code",
      "metadata": {
        "colab": {
          "base_uri": "https://localhost:8080/"
        },
        "id": "azPX2ERFj8hW",
        "outputId": "c41b2637-3d2d-424d-db47-5de78daef3cf"
      },
      "source": [
        "def sumar(numbers):\n",
        "  result = 0\n",
        "  for number in numbers:\n",
        "      result += number\n",
        "  print(result)\n",
        "\n",
        "print(sumar)\n"
      ],
      "execution_count": 14,
      "outputs": [
        {
          "output_type": "stream",
          "text": [
            "<function sumar at 0x7f10fecf5048>\n"
          ],
          "name": "stdout"
        }
      ]
    },
    {
      "cell_type": "code",
      "metadata": {
        "colab": {
          "base_uri": "https://localhost:8080/",
          "height": 129
        },
        "id": "H7WOWl80kx6O",
        "outputId": "c54a3dfa-6ab6-4dc0-d992-8c916c8108e0"
      },
      "source": [
        "def calculadora(v1, v2, operacion):\n",
        "    print(v1, operacion, v2)\n",
        "\n",
        "calculadora(1,+,2)"
      ],
      "execution_count": 25,
      "outputs": [
        {
          "output_type": "error",
          "ename": "SyntaxError",
          "evalue": "ignored",
          "traceback": [
            "\u001b[0;36m  File \u001b[0;32m\"<ipython-input-25-0f6d0907f7db>\"\u001b[0;36m, line \u001b[0;32m4\u001b[0m\n\u001b[0;31m    calculadora(1,+,2)\u001b[0m\n\u001b[0m                   ^\u001b[0m\n\u001b[0;31mSyntaxError\u001b[0m\u001b[0;31m:\u001b[0m invalid syntax\n"
          ]
        }
      ]
    },
    {
      "cell_type": "code",
      "metadata": {
        "id": "2d-zMBPpnogu"
      },
      "source": [
        ""
      ],
      "execution_count": null,
      "outputs": []
    },
    {
      "cell_type": "code",
      "metadata": {
        "id": "jNKQUmgJno1a"
      },
      "source": [
        ""
      ],
      "execution_count": null,
      "outputs": []
    },
    {
      "cell_type": "code",
      "metadata": {
        "colab": {
          "base_uri": "https://localhost:8080/"
        },
        "id": "NO6Rh56ymitU",
        "outputId": "cb3c071c-2bed-4ae5-fc8a-c268ff73f76d"
      },
      "source": [
        "def calculadora(v1, v2, operacion):\n",
        "   if (operacion =='suma'):\n",
        "     return v1+v2 # retorno \n",
        "   if (operacion =='resta'):\n",
        "     return v1-v2\n",
        "\n",
        "resultado = calculadora (1,3,'suma')\n",
        "print(resultado)\n",
        "     "
      ],
      "execution_count": 24,
      "outputs": [
        {
          "output_type": "stream",
          "text": [
            "4\n"
          ],
          "name": "stdout"
        }
      ]
    },
    {
      "cell_type": "code",
      "metadata": {
        "id": "kHJx8yXhmPvj"
      },
      "source": [
        "def calculadora(v1, v2, operador):\n",
        "    print(v1, operacion, v2)\n",
        "\n",
        "calculadora(1,2,+)"
      ],
      "execution_count": null,
      "outputs": []
    }
  ]
}