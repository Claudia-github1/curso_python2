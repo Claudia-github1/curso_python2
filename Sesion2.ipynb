{
  "nbformat": 4,
  "nbformat_minor": 0,
  "metadata": {
    "colab": {
      "name": "Sesion2.ipynb",
      "provenance": [],
      "authorship_tag": "ABX9TyMdwVs2kLIaUA84sEV5iq9T",
      "include_colab_link": true
    },
    "kernelspec": {
      "name": "python3",
      "display_name": "Python 3"
    }
  },
  "cells": [
    {
      "cell_type": "markdown",
      "metadata": {
        "id": "view-in-github",
        "colab_type": "text"
      },
      "source": [
        "<a href=\"https://colab.research.google.com/github/Claudia-github1/curso_python2/blob/main/Sesion2.ipynb\" target=\"_parent\"><img src=\"https://colab.research.google.com/assets/colab-badge.svg\" alt=\"Open In Colab\"/></a>"
      ]
    },
    {
      "cell_type": "code",
      "metadata": {
        "id": "gW89SuRqwACN",
        "outputId": "67c1b8c5-8f77-4831-f152-d4adfd857cf5",
        "colab": {
          "base_uri": "https://localhost:8080/"
        }
      },
      "source": [
        "#variable \n",
        "x=8\n",
        "print(x)\n",
        "x=9\n",
        "print(x)"
      ],
      "execution_count": 6,
      "outputs": [
        {
          "output_type": "stream",
          "text": [
            "8\n",
            "9\n"
          ],
          "name": "stdout"
        }
      ]
    },
    {
      "cell_type": "code",
      "metadata": {
        "id": "tp2THu7Mx9C7",
        "outputId": "3cf66c4f-0d16-4b11-cd4a-936126e7aae3",
        "colab": {
          "base_uri": "https://localhost:8080/"
        }
      },
      "source": [
        "#variable \n",
        "nombre = 8\n",
        "print(type(nombre))"
      ],
      "execution_count": 7,
      "outputs": [
        {
          "output_type": "stream",
          "text": [
            "<class 'int'>\n"
          ],
          "name": "stdout"
        }
      ]
    },
    {
      "cell_type": "code",
      "metadata": {
        "id": "31FSejFM4B2h",
        "outputId": "ce0247e8-8726-4b7d-9a92-48d5e9962837",
        "colab": {
          "base_uri": "https://localhost:8080/"
        }
      },
      "source": [
        "nombres = 'Claudia'\n",
        "apellidos = 'Nieto'\n",
        "edad= 31\n",
        "print (\"Tu nombre es:\", nombres, \"tu apellido es:\", apellidos, \"y tu edad es:\" , 31  )"
      ],
      "execution_count": 8,
      "outputs": [
        {
          "output_type": "stream",
          "text": [
            "Tu nombre es: Claudia tu apellido es: Nieto y tu edad es: 31\n"
          ],
          "name": "stdout"
        }
      ]
    },
    {
      "cell_type": "code",
      "metadata": {
        "id": "tm0b-yuZx_Bo",
        "outputId": "b7ca1918-bada-41ae-dff1-06ba834d3166",
        "colab": {
          "base_uri": "https://localhost:8080/"
        }
      },
      "source": [
        "b1  = bool (\"true\")\n",
        "b2 = True\n",
        "b3 = False"
      ],
      "execution_count": 3,
      "outputs": [
        {
          "output_type": "execute_result",
          "data": {
            "text/plain": [
              "8"
            ]
          },
          "metadata": {
            "tags": []
          },
          "execution_count": 3
        }
      ]
    },
    {
      "cell_type": "code",
      "metadata": {
        "id": "8cdhEOtC5wbx",
        "outputId": "a2878ee5-9fb8-4889-e8ec-b522531955b6",
        "colab": {
          "base_uri": "https://localhost:8080/"
        }
      },
      "source": [
        "num_entero = 8 \n",
        "print(type(num_entero))\n",
        "\n",
        "num_negativo = -8 \n",
        "print(type(num_negativo))\n",
        "\n",
        "num_real = 4.5\n",
        "print(type(num_real))\n",
        "\n",
        "num_real = 4.5e-7\n",
        "print(type(num_real))\n",
        "\n",
        "num_complejo = 3.2 + 7j\n",
        "print(type(num_complejo))\n"
      ],
      "execution_count": 14,
      "outputs": [
        {
          "output_type": "stream",
          "text": [
            "<class 'int'>\n",
            "<class 'int'>\n",
            "<class 'float'>\n",
            "<class 'float'>\n",
            "<class 'complex'>\n"
          ],
          "name": "stdout"
        }
      ]
    },
    {
      "cell_type": "code",
      "metadata": {
        "id": "Bi4Rcbvu6y_4",
        "outputId": "3ff0b19b-635b-4afd-ebbc-85a7e813821d",
        "colab": {
          "base_uri": "https://localhost:8080/"
        }
      },
      "source": [
        "num = 1/2\n",
        "print(type(num))"
      ],
      "execution_count": 15,
      "outputs": [
        {
          "output_type": "stream",
          "text": [
            "<class 'float'>\n"
          ],
          "name": "stdout"
        }
      ]
    },
    {
      "cell_type": "code",
      "metadata": {
        "id": "_5dqAc8L7HZH",
        "outputId": "ab47e503-790a-4fbd-9e59-258eb0a50d46",
        "colab": {
          "base_uri": "https://localhost:8080/"
        }
      },
      "source": [
        "num_binario = 0b110\n",
        "print(type(num_binario))\n",
        "print(num_binario)"
      ],
      "execution_count": 21,
      "outputs": [
        {
          "output_type": "stream",
          "text": [
            "<class 'int'>\n",
            "6\n"
          ],
          "name": "stdout"
        }
      ]
    },
    {
      "cell_type": "code",
      "metadata": {
        "id": "L6J-p-gk7frW",
        "outputId": "53725172-3f02-4f7d-ed30-fc0813b9545c",
        "colab": {
          "base_uri": "https://localhost:8080/"
        }
      },
      "source": [
        "num_binario = 0b110\n",
        "print(type(num_binario))\n",
        "print(num_binario)"
      ],
      "execution_count": 19,
      "outputs": [
        {
          "output_type": "stream",
          "text": [
            "<class 'int'>\n",
            "6\n"
          ],
          "name": "stdout"
        }
      ]
    },
    {
      "cell_type": "code",
      "metadata": {
        "id": "iXiAYgRe7h7e",
        "outputId": "89ddb693-2f44-4b84-f11c-7ff1f39ba304",
        "colab": {
          "base_uri": "https://localhost:8080/"
        }
      },
      "source": [
        "num_octal = 0o10\n",
        "print(type(num_octal))\n",
        "print(num_octal)"
      ],
      "execution_count": 20,
      "outputs": [
        {
          "output_type": "stream",
          "text": [
            "<class 'int'>\n",
            "8\n"
          ],
          "name": "stdout"
        }
      ]
    },
    {
      "cell_type": "code",
      "metadata": {
        "id": "-OoalK948UrU",
        "outputId": "07ffb05c-6217-4f90-9586-3e75e89f83c7",
        "colab": {
          "base_uri": "https://localhost:8080/"
        }
      },
      "source": [
        "cadena = \"hola\"\n",
        "print(type(cadena))\n"
      ],
      "execution_count": 22,
      "outputs": [
        {
          "output_type": "stream",
          "text": [
            "<class 'str'>\n"
          ],
          "name": "stdout"
        }
      ]
    },
    {
      "cell_type": "code",
      "metadata": {
        "id": "1H4gt4jx9xRE",
        "outputId": "02b3d5e0-b571-4f86-dac2-4a2958c7ac6e",
        "colab": {
          "base_uri": "https://localhost:8080/"
        }
      },
      "source": [
        "lat = bytearray(\"España\", \"latin1\")\n",
        "print(lat)"
      ],
      "execution_count": 23,
      "outputs": [
        {
          "output_type": "stream",
          "text": [
            "bytearray(b'Espa\\xf1a')\n"
          ],
          "name": "stdout"
        }
      ]
    },
    {
      "cell_type": "code",
      "metadata": {
        "id": "Tl6HsQST96v-",
        "outputId": "8f503bed-248a-4aa3-b855-91d066505204",
        "colab": {
          "base_uri": "https://localhost:8080/"
        }
      },
      "source": [
        "pais = \"España\"\n",
        "array1 = bytearray(pais,'utf-8')\n",
        "print(array1)"
      ],
      "execution_count": 25,
      "outputs": [
        {
          "output_type": "stream",
          "text": [
            "bytearray(b'Espa\\xc3\\xb1a')\n"
          ],
          "name": "stdout"
        }
      ]
    },
    {
      "cell_type": "code",
      "metadata": {
        "id": "nwGHEqkaBp3j",
        "outputId": "c2f88265-9bbf-4a99-b646-6331d831e345",
        "colab": {
          "base_uri": "https://localhost:8080/"
        }
      },
      "source": [
        "Estudiante = [] #lista vacia\n",
        "Estudiante = [\"Manuel Ponte\",23,\"False\"]\n",
        "Estudiante\n"
      ],
      "execution_count": 34,
      "outputs": [
        {
          "output_type": "execute_result",
          "data": {
            "text/plain": [
              "['Manuel Ponte', 23, 'False']"
            ]
          },
          "metadata": {
            "tags": []
          },
          "execution_count": 34
        }
      ]
    },
    {
      "cell_type": "code",
      "metadata": {
        "id": "GRplxw_0B20K",
        "outputId": "1d982962-84bf-4320-8787-931c71b2a36d",
        "colab": {
          "base_uri": "https://localhost:8080/",
          "height": 35
        }
      },
      "source": [
        "Estudiante[0] "
      ],
      "execution_count": 35,
      "outputs": [
        {
          "output_type": "execute_result",
          "data": {
            "application/vnd.google.colaboratory.intrinsic+json": {
              "type": "string"
            },
            "text/plain": [
              "'Manuel Ponte'"
            ]
          },
          "metadata": {
            "tags": []
          },
          "execution_count": 35
        }
      ]
    },
    {
      "cell_type": "code",
      "metadata": {
        "id": "8Wput_WiCTwL",
        "outputId": "17c5cf35-8733-4dff-9e1b-2e9311e95d47",
        "colab": {
          "base_uri": "https://localhost:8080/"
        }
      },
      "source": [
        "Estudiante[1:2] "
      ],
      "execution_count": 38,
      "outputs": [
        {
          "output_type": "execute_result",
          "data": {
            "text/plain": [
              "[23]"
            ]
          },
          "metadata": {
            "tags": []
          },
          "execution_count": 38
        }
      ]
    },
    {
      "cell_type": "code",
      "metadata": {
        "id": "GQdPHjf7Cn5T",
        "outputId": "ff83990f-6c74-421f-93ec-995fca5b967d",
        "colab": {
          "base_uri": "https://localhost:8080/",
          "height": 35
        }
      },
      "source": [
        "Estudiante[-1]"
      ],
      "execution_count": 40,
      "outputs": [
        {
          "output_type": "execute_result",
          "data": {
            "application/vnd.google.colaboratory.intrinsic+json": {
              "type": "string"
            },
            "text/plain": [
              "'False'"
            ]
          },
          "metadata": {
            "tags": []
          },
          "execution_count": 40
        }
      ]
    }
  ]
}