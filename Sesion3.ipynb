{
  "nbformat": 4,
  "nbformat_minor": 0,
  "metadata": {
    "colab": {
      "name": "Sesion3.ipynb",
      "provenance": [],
      "authorship_tag": "ABX9TyPEX3h8xHBkMErFueTdghlv",
      "include_colab_link": true
    },
    "kernelspec": {
      "name": "python3",
      "display_name": "Python 3"
    }
  },
  "cells": [
    {
      "cell_type": "markdown",
      "metadata": {
        "id": "view-in-github",
        "colab_type": "text"
      },
      "source": [
        "<a href=\"https://colab.research.google.com/github/Claudia-github1/curso_python2/blob/main/Sesion3.ipynb\" target=\"_parent\"><img src=\"https://colab.research.google.com/assets/colab-badge.svg\" alt=\"Open In Colab\"/></a>"
      ]
    },
    {
      "cell_type": "markdown",
      "metadata": {
        "id": "4xLDYba3PFzx"
      },
      "source": [
        ""
      ]
    },
    {
      "cell_type": "markdown",
      "metadata": {
        "id": "Cni-WdiiNXjP"
      },
      "source": [
        "## TUPLA"
      ]
    },
    {
      "cell_type": "code",
      "metadata": {
        "id": "Y9e8nzh8ObMS",
        "outputId": "ff97ecf8-a0d4-4a31-cf30-395a81e0b839",
        "colab": {
          "base_uri": "https://localhost:8080/"
        }
      },
      "source": [
        "Estudiantetupla='Karolayne Pacherres',23,'True'\n",
        "Estudiantetupla"
      ],
      "execution_count": 5,
      "outputs": [
        {
          "output_type": "execute_result",
          "data": {
            "text/plain": [
              "('Karolayne Pacherres', 23, 'True')"
            ]
          },
          "metadata": {
            "tags": []
          },
          "execution_count": 5
        }
      ]
    },
    {
      "cell_type": "code",
      "metadata": {
        "id": "nOQx78JoOnTk",
        "outputId": "2aa66e1b-4993-4e7d-c7f4-cad3d7602aca",
        "colab": {
          "base_uri": "https://localhost:8080/",
          "height": 35
        }
      },
      "source": [
        "Estudiantetupla[0]"
      ],
      "execution_count": 6,
      "outputs": [
        {
          "output_type": "execute_result",
          "data": {
            "application/vnd.google.colaboratory.intrinsic+json": {
              "type": "string"
            },
            "text/plain": [
              "'Karolayne Pacherres'"
            ]
          },
          "metadata": {
            "tags": []
          },
          "execution_count": 6
        }
      ]
    },
    {
      "cell_type": "code",
      "metadata": {
        "id": "-s1gRIgsOz4B",
        "outputId": "080e6adf-6f19-49ec-b4cc-f22b9d544be3",
        "colab": {
          "base_uri": "https://localhost:8080/",
          "height": 158
        }
      },
      "source": [
        "Estudiantetupla[0] = 'CLAU'"
      ],
      "execution_count": 8,
      "outputs": [
        {
          "output_type": "error",
          "ename": "TypeError",
          "evalue": "ignored",
          "traceback": [
            "\u001b[0;31m---------------------------------------------------------------------------\u001b[0m",
            "\u001b[0;31mTypeError\u001b[0m                                 Traceback (most recent call last)",
            "\u001b[0;32m<ipython-input-8-08c9588df6d3>\u001b[0m in \u001b[0;36m<module>\u001b[0;34m()\u001b[0m\n\u001b[0;32m----> 1\u001b[0;31m \u001b[0mEstudiantetupla\u001b[0m\u001b[0;34m[\u001b[0m\u001b[0;36m0\u001b[0m\u001b[0;34m]\u001b[0m \u001b[0;34m=\u001b[0m \u001b[0;34m'CLAU'\u001b[0m\u001b[0;34m\u001b[0m\u001b[0;34m\u001b[0m\u001b[0m\n\u001b[0m",
            "\u001b[0;31mTypeError\u001b[0m: 'tuple' object does not support item assignment"
          ]
        }
      ]
    },
    {
      "cell_type": "markdown",
      "metadata": {
        "id": "xS5fTRwXPIkb"
      },
      "source": [
        "## LISTA\n",
        "\n"
      ]
    },
    {
      "cell_type": "code",
      "metadata": {
        "id": "QEqHb1PuPPOK",
        "outputId": "b8552df5-b5af-4cf5-8f00-b3dcd50efafd",
        "colab": {
          "base_uri": "https://localhost:8080/"
        }
      },
      "source": [
        "Estudiante=['Manuel Ponte',23,'M']\n",
        "Estudiante"
      ],
      "execution_count": 20,
      "outputs": [
        {
          "output_type": "execute_result",
          "data": {
            "text/plain": [
              "['Manuel Ponte', 23, 'M']"
            ]
          },
          "metadata": {
            "tags": []
          },
          "execution_count": 20
        }
      ]
    },
    {
      "cell_type": "code",
      "metadata": {
        "id": "1qxg4EQRPm9J",
        "outputId": "7cf74771-5e7f-40e7-9c1b-d8debeafd383",
        "colab": {
          "base_uri": "https://localhost:8080/"
        }
      },
      "source": [
        "if Estudiante[2] == 'M':\n",
        "   Estudiante[2] = 'MASULINO'\n",
        "   print('2')\n",
        "   \n",
        "Estudiante\n"
      ],
      "execution_count": 30,
      "outputs": [
        {
          "output_type": "execute_result",
          "data": {
            "text/plain": [
              "['Manuel Ponte', 23, 'MASCULINO']"
            ]
          },
          "metadata": {
            "tags": []
          },
          "execution_count": 30
        }
      ]
    },
    {
      "cell_type": "markdown",
      "metadata": {
        "id": "TqfZNSnDSs-M"
      },
      "source": [
        "## DICCIONARIO"
      ]
    },
    {
      "cell_type": "code",
      "metadata": {
        "id": "dOs-2qSQSyOR",
        "outputId": "11540844-d569-4232-bab1-e28404f39b91",
        "colab": {
          "base_uri": "https://localhost:8080/"
        }
      },
      "source": [
        "# creando diccionarios:\n",
        "EstudianteDict={'Nombres':\"Manuel Ponte\",\n",
        "               'edad':23,\n",
        "               'femenino':False,\n",
        "                'distrito': 'villa Maria'\n",
        "                }\n",
        "#en los diccionarios se deben indicar los nombres de los atributos\n",
        "# seeing it:\n",
        "print(EstudianteDict['distrito'])"
      ],
      "execution_count": 37,
      "outputs": [
        {
          "output_type": "stream",
          "text": [
            "villa Maria\n"
          ],
          "name": "stdout"
        }
      ]
    },
    {
      "cell_type": "markdown",
      "metadata": {
        "id": "ePx-DmOgUIOK"
      },
      "source": [
        "DATA FRAMES"
      ]
    },
    {
      "cell_type": "code",
      "metadata": {
        "id": "vNoPO_-eUKod",
        "outputId": "0dd5704b-c85f-43b8-80fa-5d6bf82747d2",
        "colab": {
          "base_uri": "https://localhost:8080/"
        }
      },
      "source": [
        "import pandas as pd\n",
        "\n",
        "#que es un dataframe,  es un tabla \n",
        "\n",
        "#estamos creando listas \n",
        "nombres=[\"Manuel\", \"Karen\", \"Karolayne\", \"Omar\"]\n",
        "edad=[23,29,23,26]\n",
        "pais=[\"Ecuador\", \"Perú\", \"Brasil\", \"Argentina\"]\n",
        "educacion=[\"Bach\", \"Lic\", \"Bach\", \"PhD\"]\n",
        "\n",
        "\n",
        "print(nombres[3])"
      ],
      "execution_count": 41,
      "outputs": [
        {
          "output_type": "stream",
          "text": [
            "Omar\n"
          ],
          "name": "stdout"
        }
      ]
    },
    {
      "cell_type": "code",
      "metadata": {
        "id": "jfdOgLa6VtE4",
        "outputId": "04db0b48-2c5e-43e4-ff1a-532f8447ae00",
        "colab": {
          "base_uri": "https://localhost:8080/"
        }
      },
      "source": [
        "# las llevamos a diccionario:\n",
        "data={'nombres':nombres, 'edad':edad, 'pais':pais, 'educacion':educacion}\n",
        "print(data)"
      ],
      "execution_count": 42,
      "outputs": [
        {
          "output_type": "stream",
          "text": [
            "{'nombres': ['Manuel', 'Karen', 'Karolayne', 'Omar'], 'edad': [23, 29, 23, 26], 'pais': ['Ecuador', 'Perú', 'Brasil', 'Argentina'], 'educacion': ['Bach', 'Lic', 'Bach', 'PhD']}\n"
          ],
          "name": "stdout"
        }
      ]
    },
    {
      "cell_type": "code",
      "metadata": {
        "id": "kaYqNAE7Vg8Y",
        "outputId": "0a734e01-bd9c-4d6d-f166-45d9281fcd30",
        "colab": {
          "base_uri": "https://localhost:8080/"
        }
      },
      "source": [
        "estudiantes=pd.DataFrame(data)\n",
        "# check it:\n",
        "print(estudiantes)"
      ],
      "execution_count": 44,
      "outputs": [
        {
          "output_type": "stream",
          "text": [
            "     nombres  edad       pais educacion\n",
            "0     Manuel    23    Ecuador      Bach\n",
            "1      Karen    29       Perú       Lic\n",
            "2  Karolayne    23     Brasil      Bach\n",
            "3       Omar    26  Argentina       PhD\n"
          ],
          "name": "stdout"
        }
      ]
    },
    {
      "cell_type": "code",
      "metadata": {
        "id": "2wm9hYNHXYi1"
      },
      "source": [
        ""
      ],
      "execution_count": null,
      "outputs": []
    },
    {
      "cell_type": "markdown",
      "metadata": {
        "id": "ppeeSfk7a0bS"
      },
      "source": [
        "#Sentencia de control \n"
      ]
    },
    {
      "cell_type": "code",
      "metadata": {
        "id": "VNWxXEwYa9Ba",
        "outputId": "3dc3008d-b5ad-4dfd-c9fb-b4f85c32dd99",
        "colab": {
          "base_uri": "https://localhost:8080/"
        }
      },
      "source": [
        "x=10\n",
        "y=0\n",
        "\n",
        "if x==4:\n",
        "   y=5\n",
        "else:\n",
        "   y=2\n",
        "\n",
        "print(y)"
      ],
      "execution_count": 46,
      "outputs": [
        {
          "output_type": "stream",
          "text": [
            "2\n"
          ],
          "name": "stdout"
        }
      ]
    },
    {
      "cell_type": "code",
      "metadata": {
        "id": "t6DvXhBScI92",
        "outputId": "fed176ff-2fdf-491c-d63e-4a7a222e4673",
        "colab": {
          "base_uri": "https://localhost:8080/"
        }
      },
      "source": [
        "x=6\n",
        "y=0\n",
        "\n",
        "if x==4:\n",
        "   y=1\n",
        "elif x==5:\n",
        "   y=2\n",
        "elif x==6:\n",
        "   y=3\n",
        "else:\n",
        "   y=4\n",
        "\n",
        "print(y)"
      ],
      "execution_count": 48,
      "outputs": [
        {
          "output_type": "stream",
          "text": [
            "3\n"
          ],
          "name": "stdout"
        }
      ]
    },
    {
      "cell_type": "code",
      "metadata": {
        "id": "qEM6SIsWczUO",
        "outputId": "53949aac-3c81-46d6-9630-84f873e29168",
        "colab": {
          "base_uri": "https://localhost:8080/"
        }
      },
      "source": [
        "x = 4\n",
        "xy = 1\n",
        "if x == 4 and xy == 1:\n",
        "   y =1\n",
        "elif x==5:\n",
        "   y=2\n",
        "else:\n",
        "   y=3\n",
        "\n",
        "print(y)\n",
        "\n"
      ],
      "execution_count": 51,
      "outputs": [
        {
          "output_type": "stream",
          "text": [
            "1\n"
          ],
          "name": "stdout"
        }
      ]
    },
    {
      "cell_type": "code",
      "metadata": {
        "id": "vKKHHkMweOV5"
      },
      "source": [
        "x = 4\n",
        "xy = 1\n",
        "if x == 4 and xy == 1:\n",
        "   y =1\n",
        "elif x==5:\n",
        "   y=2\n",
        "else:\n",
        "   y=3\n",
        "\n",
        "print(y)"
      ],
      "execution_count": null,
      "outputs": []
    },
    {
      "cell_type": "code",
      "metadata": {
        "id": "BdS2hgDges2F",
        "outputId": "3677b8ef-4284-4f7c-8047-047bdf0c85ee",
        "colab": {
          "base_uri": "https://localhost:8080/"
        }
      },
      "source": [
        "for x in range(1,3):\n",
        "  print(x)"
      ],
      "execution_count": 52,
      "outputs": [
        {
          "output_type": "stream",
          "text": [
            "1\n",
            "2\n"
          ],
          "name": "stdout"
        }
      ]
    },
    {
      "cell_type": "code",
      "metadata": {
        "id": "g3xm4K6SgC_E",
        "outputId": "2f82dc74-de8e-479e-8127-10736a74479e",
        "colab": {
          "base_uri": "https://localhost:8080/"
        }
      },
      "source": [
        "0,1,2,3,4,5,6,7,8\n",
        "for x in range(6):\n",
        "  print(x)\n"
      ],
      "execution_count": 54,
      "outputs": [
        {
          "output_type": "stream",
          "text": [
            "0\n",
            "1\n",
            "2\n",
            "3\n",
            "4\n",
            "5\n"
          ],
          "name": "stdout"
        }
      ]
    },
    {
      "cell_type": "code",
      "metadata": {
        "id": "D2BcelqIgbKi",
        "outputId": "a47a5977-e32a-4c42-cd00-1433623cc15a",
        "colab": {
          "base_uri": "https://localhost:8080/"
        }
      },
      "source": [
        "0,1,2,3,4,5,6,7,8\n",
        "for x in range(1,4): #rango es igual posiciones\n",
        "  print(x)"
      ],
      "execution_count": 62,
      "outputs": [
        {
          "output_type": "stream",
          "text": [
            "1\n",
            "2\n",
            "3\n"
          ],
          "name": "stdout"
        }
      ]
    },
    {
      "cell_type": "code",
      "metadata": {
        "id": "HXjpv-PrhOBv",
        "outputId": "75ccc90d-e193-49d5-8d4b-3a1ed8e71c21",
        "colab": {
          "base_uri": "https://localhost:8080/",
          "height": 132
        }
      },
      "source": [
        "lista = [\"uno \", \"dos \" ,\"tres \"]\n",
        "cadena = \"\"\n",
        "for posicion in lista:\n",
        "    print(posicion)\n",
        "    cadena += posicion\n",
        "    print(cadena)\n",
        "\n",
        "cadena"
      ],
      "execution_count": 60,
      "outputs": [
        {
          "output_type": "stream",
          "text": [
            "uno \n",
            "uno \n",
            "dos \n",
            "uno dos \n",
            "tres \n",
            "uno dos tres \n"
          ],
          "name": "stdout"
        },
        {
          "output_type": "execute_result",
          "data": {
            "application/vnd.google.colaboratory.intrinsic+json": {
              "type": "string"
            },
            "text/plain": [
              "'uno dos tres '"
            ]
          },
          "metadata": {
            "tags": []
          },
          "execution_count": 60
        }
      ]
    },
    {
      "cell_type": "code",
      "metadata": {
        "id": "mtZu1hOqi0iO"
      },
      "source": [
        "lista = [\"uno \", \"dos \" ,\"tres \"]\n",
        "cadena = \"\"\n",
        "for posicion in lista:\n",
        "    print(posicion)\n",
        "    cadena += posicion\n",
        "    print(cadena)\n",
        "\n",
        "cadena"
      ],
      "execution_count": null,
      "outputs": []
    }
  ]
}